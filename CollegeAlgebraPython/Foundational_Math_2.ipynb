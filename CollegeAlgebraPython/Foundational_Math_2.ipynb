{
  "nbformat": 4,
  "nbformat_minor": 0,
  "metadata": {
    "colab": {
      "provenance": [],
      "collapsed_sections": [
        "szp5flp1fA8-"
      ]
    },
    "kernelspec": {
      "name": "python3",
      "display_name": "Python 3"
    },
    "language_info": {
      "name": "python"
    },
    "widgets": {
      "application/vnd.jupyter.widget-state+json": {
        "8883d6e5d0924549999a23732e73f4fb": {
          "model_module": "@jupyter-widgets/controls",
          "model_name": "VBoxModel",
          "model_module_version": "1.5.0",
          "state": {
            "_dom_classes": [
              "widget-interact"
            ],
            "_model_module": "@jupyter-widgets/controls",
            "_model_module_version": "1.5.0",
            "_model_name": "VBoxModel",
            "_view_count": null,
            "_view_module": "@jupyter-widgets/controls",
            "_view_module_version": "1.5.0",
            "_view_name": "VBoxView",
            "box_style": "",
            "children": [
              "IPY_MODEL_506067d370e54dffbab382284d2b191c",
              "IPY_MODEL_ffeb3cc9e3f74b36bc8421ef6105f290",
              "IPY_MODEL_d6b4e3a8f27443eb9e6781f042817b69"
            ],
            "layout": "IPY_MODEL_a02530b8bfbc433cb9d22077fab6b062"
          }
        },
        "506067d370e54dffbab382284d2b191c": {
          "model_module": "@jupyter-widgets/controls",
          "model_name": "IntSliderModel",
          "model_module_version": "1.5.0",
          "state": {
            "_dom_classes": [],
            "_model_module": "@jupyter-widgets/controls",
            "_model_module_version": "1.5.0",
            "_model_name": "IntSliderModel",
            "_view_count": null,
            "_view_module": "@jupyter-widgets/controls",
            "_view_module_version": "1.5.0",
            "_view_name": "IntSliderView",
            "continuous_update": true,
            "description": "m",
            "description_tooltip": null,
            "disabled": false,
            "layout": "IPY_MODEL_3aecc6a44c014b04b3e762fbf54acb37",
            "max": 9,
            "min": -9,
            "orientation": "horizontal",
            "readout": true,
            "readout_format": "d",
            "step": 1,
            "style": "IPY_MODEL_202031e37d1d4d41aaa1e3becfdc6d88",
            "value": 2
          }
        },
        "ffeb3cc9e3f74b36bc8421ef6105f290": {
          "model_module": "@jupyter-widgets/controls",
          "model_name": "IntSliderModel",
          "model_module_version": "1.5.0",
          "state": {
            "_dom_classes": [],
            "_model_module": "@jupyter-widgets/controls",
            "_model_module_version": "1.5.0",
            "_model_name": "IntSliderModel",
            "_view_count": null,
            "_view_module": "@jupyter-widgets/controls",
            "_view_module_version": "1.5.0",
            "_view_name": "IntSliderView",
            "continuous_update": true,
            "description": "b",
            "description_tooltip": null,
            "disabled": false,
            "layout": "IPY_MODEL_b6f7ad9f0e29482a868cf397b3b17092",
            "max": 9,
            "min": -9,
            "orientation": "horizontal",
            "readout": true,
            "readout_format": "d",
            "step": 1,
            "style": "IPY_MODEL_433fe0c989bb49d798ffc4a594367b04",
            "value": -1
          }
        },
        "d6b4e3a8f27443eb9e6781f042817b69": {
          "model_module": "@jupyter-widgets/output",
          "model_name": "OutputModel",
          "model_module_version": "1.0.0",
          "state": {
            "_dom_classes": [],
            "_model_module": "@jupyter-widgets/output",
            "_model_module_version": "1.0.0",
            "_model_name": "OutputModel",
            "_view_count": null,
            "_view_module": "@jupyter-widgets/output",
            "_view_module_version": "1.0.0",
            "_view_name": "OutputView",
            "layout": "IPY_MODEL_98ec0e5d1c3a408f8f1237b38a0ecbd7",
            "msg_id": "",
            "outputs": [
              {
                "output_type": "display_data",
                "data": {
                  "text/plain": "<Figure size 640x480 with 1 Axes>",
                  "image/png": "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\n"
                },
                "metadata": {}
              }
            ]
          }
        },
        "a02530b8bfbc433cb9d22077fab6b062": {
          "model_module": "@jupyter-widgets/base",
          "model_name": "LayoutModel",
          "model_module_version": "1.2.0",
          "state": {
            "_model_module": "@jupyter-widgets/base",
            "_model_module_version": "1.2.0",
            "_model_name": "LayoutModel",
            "_view_count": null,
            "_view_module": "@jupyter-widgets/base",
            "_view_module_version": "1.2.0",
            "_view_name": "LayoutView",
            "align_content": null,
            "align_items": null,
            "align_self": null,
            "border": null,
            "bottom": null,
            "display": null,
            "flex": null,
            "flex_flow": null,
            "grid_area": null,
            "grid_auto_columns": null,
            "grid_auto_flow": null,
            "grid_auto_rows": null,
            "grid_column": null,
            "grid_gap": null,
            "grid_row": null,
            "grid_template_areas": null,
            "grid_template_columns": null,
            "grid_template_rows": null,
            "height": null,
            "justify_content": null,
            "justify_items": null,
            "left": null,
            "margin": null,
            "max_height": null,
            "max_width": null,
            "min_height": null,
            "min_width": null,
            "object_fit": null,
            "object_position": null,
            "order": null,
            "overflow": null,
            "overflow_x": null,
            "overflow_y": null,
            "padding": null,
            "right": null,
            "top": null,
            "visibility": null,
            "width": null
          }
        },
        "3aecc6a44c014b04b3e762fbf54acb37": {
          "model_module": "@jupyter-widgets/base",
          "model_name": "LayoutModel",
          "model_module_version": "1.2.0",
          "state": {
            "_model_module": "@jupyter-widgets/base",
            "_model_module_version": "1.2.0",
            "_model_name": "LayoutModel",
            "_view_count": null,
            "_view_module": "@jupyter-widgets/base",
            "_view_module_version": "1.2.0",
            "_view_name": "LayoutView",
            "align_content": null,
            "align_items": null,
            "align_self": null,
            "border": null,
            "bottom": null,
            "display": null,
            "flex": null,
            "flex_flow": null,
            "grid_area": null,
            "grid_auto_columns": null,
            "grid_auto_flow": null,
            "grid_auto_rows": null,
            "grid_column": null,
            "grid_gap": null,
            "grid_row": null,
            "grid_template_areas": null,
            "grid_template_columns": null,
            "grid_template_rows": null,
            "height": null,
            "justify_content": null,
            "justify_items": null,
            "left": null,
            "margin": null,
            "max_height": null,
            "max_width": null,
            "min_height": null,
            "min_width": null,
            "object_fit": null,
            "object_position": null,
            "order": null,
            "overflow": null,
            "overflow_x": null,
            "overflow_y": null,
            "padding": null,
            "right": null,
            "top": null,
            "visibility": null,
            "width": null
          }
        },
        "202031e37d1d4d41aaa1e3becfdc6d88": {
          "model_module": "@jupyter-widgets/controls",
          "model_name": "SliderStyleModel",
          "model_module_version": "1.5.0",
          "state": {
            "_model_module": "@jupyter-widgets/controls",
            "_model_module_version": "1.5.0",
            "_model_name": "SliderStyleModel",
            "_view_count": null,
            "_view_module": "@jupyter-widgets/base",
            "_view_module_version": "1.2.0",
            "_view_name": "StyleView",
            "description_width": "",
            "handle_color": null
          }
        },
        "b6f7ad9f0e29482a868cf397b3b17092": {
          "model_module": "@jupyter-widgets/base",
          "model_name": "LayoutModel",
          "model_module_version": "1.2.0",
          "state": {
            "_model_module": "@jupyter-widgets/base",
            "_model_module_version": "1.2.0",
            "_model_name": "LayoutModel",
            "_view_count": null,
            "_view_module": "@jupyter-widgets/base",
            "_view_module_version": "1.2.0",
            "_view_name": "LayoutView",
            "align_content": null,
            "align_items": null,
            "align_self": null,
            "border": null,
            "bottom": null,
            "display": null,
            "flex": null,
            "flex_flow": null,
            "grid_area": null,
            "grid_auto_columns": null,
            "grid_auto_flow": null,
            "grid_auto_rows": null,
            "grid_column": null,
            "grid_gap": null,
            "grid_row": null,
            "grid_template_areas": null,
            "grid_template_columns": null,
            "grid_template_rows": null,
            "height": null,
            "justify_content": null,
            "justify_items": null,
            "left": null,
            "margin": null,
            "max_height": null,
            "max_width": null,
            "min_height": null,
            "min_width": null,
            "object_fit": null,
            "object_position": null,
            "order": null,
            "overflow": null,
            "overflow_x": null,
            "overflow_y": null,
            "padding": null,
            "right": null,
            "top": null,
            "visibility": null,
            "width": null
          }
        },
        "433fe0c989bb49d798ffc4a594367b04": {
          "model_module": "@jupyter-widgets/controls",
          "model_name": "SliderStyleModel",
          "model_module_version": "1.5.0",
          "state": {
            "_model_module": "@jupyter-widgets/controls",
            "_model_module_version": "1.5.0",
            "_model_name": "SliderStyleModel",
            "_view_count": null,
            "_view_module": "@jupyter-widgets/base",
            "_view_module_version": "1.2.0",
            "_view_name": "StyleView",
            "description_width": "",
            "handle_color": null
          }
        },
        "98ec0e5d1c3a408f8f1237b38a0ecbd7": {
          "model_module": "@jupyter-widgets/base",
          "model_name": "LayoutModel",
          "model_module_version": "1.2.0",
          "state": {
            "_model_module": "@jupyter-widgets/base",
            "_model_module_version": "1.2.0",
            "_model_name": "LayoutModel",
            "_view_count": null,
            "_view_module": "@jupyter-widgets/base",
            "_view_module_version": "1.2.0",
            "_view_name": "LayoutView",
            "align_content": null,
            "align_items": null,
            "align_self": null,
            "border": null,
            "bottom": null,
            "display": null,
            "flex": null,
            "flex_flow": null,
            "grid_area": null,
            "grid_auto_columns": null,
            "grid_auto_flow": null,
            "grid_auto_rows": null,
            "grid_column": null,
            "grid_gap": null,
            "grid_row": null,
            "grid_template_areas": null,
            "grid_template_columns": null,
            "grid_template_rows": null,
            "height": null,
            "justify_content": null,
            "justify_items": null,
            "left": null,
            "margin": null,
            "max_height": null,
            "max_width": null,
            "min_height": null,
            "min_width": null,
            "object_fit": null,
            "object_position": null,
            "order": null,
            "overflow": null,
            "overflow_x": null,
            "overflow_y": null,
            "padding": null,
            "right": null,
            "top": null,
            "visibility": null,
            "width": null
          }
        },
        "e36094c47c14485b9cd943ee09e2b37b": {
          "model_module": "@jupyter-widgets/controls",
          "model_name": "VBoxModel",
          "model_module_version": "1.5.0",
          "state": {
            "_dom_classes": [
              "widget-interact"
            ],
            "_model_module": "@jupyter-widgets/controls",
            "_model_module_version": "1.5.0",
            "_model_name": "VBoxModel",
            "_view_count": null,
            "_view_module": "@jupyter-widgets/controls",
            "_view_module_version": "1.5.0",
            "_view_name": "VBoxView",
            "box_style": "",
            "children": [
              "IPY_MODEL_49e6cc7e72a64a6ba0df86dba29cd8b7",
              "IPY_MODEL_1716fbb98e5740a981505e43bc66bc4e",
              "IPY_MODEL_0bc6925e4654445ab7a43d6fd5df053e",
              "IPY_MODEL_1c69832e6a794fce953d27cc95521e2d"
            ],
            "layout": "IPY_MODEL_f52a9293ac6b4c36935ce213b116a902"
          }
        },
        "49e6cc7e72a64a6ba0df86dba29cd8b7": {
          "model_module": "@jupyter-widgets/controls",
          "model_name": "IntSliderModel",
          "model_module_version": "1.5.0",
          "state": {
            "_dom_classes": [],
            "_model_module": "@jupyter-widgets/controls",
            "_model_module_version": "1.5.0",
            "_model_name": "IntSliderModel",
            "_view_count": null,
            "_view_module": "@jupyter-widgets/controls",
            "_view_module_version": "1.5.0",
            "_view_name": "IntSliderView",
            "continuous_update": true,
            "description": "a",
            "description_tooltip": null,
            "disabled": false,
            "layout": "IPY_MODEL_b3cd56aebca84bff9641c14ac2296209",
            "max": 9,
            "min": -9,
            "orientation": "horizontal",
            "readout": true,
            "readout_format": "d",
            "step": 1,
            "style": "IPY_MODEL_1575a02007da4e6e9879057492039dee",
            "value": 1
          }
        },
        "1716fbb98e5740a981505e43bc66bc4e": {
          "model_module": "@jupyter-widgets/controls",
          "model_name": "IntSliderModel",
          "model_module_version": "1.5.0",
          "state": {
            "_dom_classes": [],
            "_model_module": "@jupyter-widgets/controls",
            "_model_module_version": "1.5.0",
            "_model_name": "IntSliderModel",
            "_view_count": null,
            "_view_module": "@jupyter-widgets/controls",
            "_view_module_version": "1.5.0",
            "_view_name": "IntSliderView",
            "continuous_update": true,
            "description": "b",
            "description_tooltip": null,
            "disabled": false,
            "layout": "IPY_MODEL_52e8b914f4af48d8b8b5e64f98185e72",
            "max": 9,
            "min": -9,
            "orientation": "horizontal",
            "readout": true,
            "readout_format": "d",
            "step": 1,
            "style": "IPY_MODEL_0adec52bba7f4a409fde4330c26d0e01",
            "value": -2
          }
        },
        "0bc6925e4654445ab7a43d6fd5df053e": {
          "model_module": "@jupyter-widgets/controls",
          "model_name": "IntSliderModel",
          "model_module_version": "1.5.0",
          "state": {
            "_dom_classes": [],
            "_model_module": "@jupyter-widgets/controls",
            "_model_module_version": "1.5.0",
            "_model_name": "IntSliderModel",
            "_view_count": null,
            "_view_module": "@jupyter-widgets/controls",
            "_view_module_version": "1.5.0",
            "_view_name": "IntSliderView",
            "continuous_update": true,
            "description": "c",
            "description_tooltip": null,
            "disabled": false,
            "layout": "IPY_MODEL_0e916a3422e44a688bc3098c04d9a0e4",
            "max": 9,
            "min": -9,
            "orientation": "horizontal",
            "readout": true,
            "readout_format": "d",
            "step": 1,
            "style": "IPY_MODEL_15c5a6e485614caebf9e0f259c1cb639",
            "value": 2
          }
        },
        "1c69832e6a794fce953d27cc95521e2d": {
          "model_module": "@jupyter-widgets/output",
          "model_name": "OutputModel",
          "model_module_version": "1.0.0",
          "state": {
            "_dom_classes": [],
            "_model_module": "@jupyter-widgets/output",
            "_model_module_version": "1.0.0",
            "_model_name": "OutputModel",
            "_view_count": null,
            "_view_module": "@jupyter-widgets/output",
            "_view_module_version": "1.0.0",
            "_view_name": "OutputView",
            "layout": "IPY_MODEL_0a9ea51b63ce4e25bfa5a5911886757a",
            "msg_id": "",
            "outputs": [
              {
                "output_type": "display_data",
                "data": {
                  "text/plain": "<Figure size 640x480 with 1 Axes>",
                  "image/png": "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\n"
                },
                "metadata": {}
              }
            ]
          }
        },
        "f52a9293ac6b4c36935ce213b116a902": {
          "model_module": "@jupyter-widgets/base",
          "model_name": "LayoutModel",
          "model_module_version": "1.2.0",
          "state": {
            "_model_module": "@jupyter-widgets/base",
            "_model_module_version": "1.2.0",
            "_model_name": "LayoutModel",
            "_view_count": null,
            "_view_module": "@jupyter-widgets/base",
            "_view_module_version": "1.2.0",
            "_view_name": "LayoutView",
            "align_content": null,
            "align_items": null,
            "align_self": null,
            "border": null,
            "bottom": null,
            "display": null,
            "flex": null,
            "flex_flow": null,
            "grid_area": null,
            "grid_auto_columns": null,
            "grid_auto_flow": null,
            "grid_auto_rows": null,
            "grid_column": null,
            "grid_gap": null,
            "grid_row": null,
            "grid_template_areas": null,
            "grid_template_columns": null,
            "grid_template_rows": null,
            "height": null,
            "justify_content": null,
            "justify_items": null,
            "left": null,
            "margin": null,
            "max_height": null,
            "max_width": null,
            "min_height": null,
            "min_width": null,
            "object_fit": null,
            "object_position": null,
            "order": null,
            "overflow": null,
            "overflow_x": null,
            "overflow_y": null,
            "padding": null,
            "right": null,
            "top": null,
            "visibility": null,
            "width": null
          }
        },
        "b3cd56aebca84bff9641c14ac2296209": {
          "model_module": "@jupyter-widgets/base",
          "model_name": "LayoutModel",
          "model_module_version": "1.2.0",
          "state": {
            "_model_module": "@jupyter-widgets/base",
            "_model_module_version": "1.2.0",
            "_model_name": "LayoutModel",
            "_view_count": null,
            "_view_module": "@jupyter-widgets/base",
            "_view_module_version": "1.2.0",
            "_view_name": "LayoutView",
            "align_content": null,
            "align_items": null,
            "align_self": null,
            "border": null,
            "bottom": null,
            "display": null,
            "flex": null,
            "flex_flow": null,
            "grid_area": null,
            "grid_auto_columns": null,
            "grid_auto_flow": null,
            "grid_auto_rows": null,
            "grid_column": null,
            "grid_gap": null,
            "grid_row": null,
            "grid_template_areas": null,
            "grid_template_columns": null,
            "grid_template_rows": null,
            "height": null,
            "justify_content": null,
            "justify_items": null,
            "left": null,
            "margin": null,
            "max_height": null,
            "max_width": null,
            "min_height": null,
            "min_width": null,
            "object_fit": null,
            "object_position": null,
            "order": null,
            "overflow": null,
            "overflow_x": null,
            "overflow_y": null,
            "padding": null,
            "right": null,
            "top": null,
            "visibility": null,
            "width": null
          }
        },
        "1575a02007da4e6e9879057492039dee": {
          "model_module": "@jupyter-widgets/controls",
          "model_name": "SliderStyleModel",
          "model_module_version": "1.5.0",
          "state": {
            "_model_module": "@jupyter-widgets/controls",
            "_model_module_version": "1.5.0",
            "_model_name": "SliderStyleModel",
            "_view_count": null,
            "_view_module": "@jupyter-widgets/base",
            "_view_module_version": "1.2.0",
            "_view_name": "StyleView",
            "description_width": "",
            "handle_color": null
          }
        },
        "52e8b914f4af48d8b8b5e64f98185e72": {
          "model_module": "@jupyter-widgets/base",
          "model_name": "LayoutModel",
          "model_module_version": "1.2.0",
          "state": {
            "_model_module": "@jupyter-widgets/base",
            "_model_module_version": "1.2.0",
            "_model_name": "LayoutModel",
            "_view_count": null,
            "_view_module": "@jupyter-widgets/base",
            "_view_module_version": "1.2.0",
            "_view_name": "LayoutView",
            "align_content": null,
            "align_items": null,
            "align_self": null,
            "border": null,
            "bottom": null,
            "display": null,
            "flex": null,
            "flex_flow": null,
            "grid_area": null,
            "grid_auto_columns": null,
            "grid_auto_flow": null,
            "grid_auto_rows": null,
            "grid_column": null,
            "grid_gap": null,
            "grid_row": null,
            "grid_template_areas": null,
            "grid_template_columns": null,
            "grid_template_rows": null,
            "height": null,
            "justify_content": null,
            "justify_items": null,
            "left": null,
            "margin": null,
            "max_height": null,
            "max_width": null,
            "min_height": null,
            "min_width": null,
            "object_fit": null,
            "object_position": null,
            "order": null,
            "overflow": null,
            "overflow_x": null,
            "overflow_y": null,
            "padding": null,
            "right": null,
            "top": null,
            "visibility": null,
            "width": null
          }
        },
        "0adec52bba7f4a409fde4330c26d0e01": {
          "model_module": "@jupyter-widgets/controls",
          "model_name": "SliderStyleModel",
          "model_module_version": "1.5.0",
          "state": {
            "_model_module": "@jupyter-widgets/controls",
            "_model_module_version": "1.5.0",
            "_model_name": "SliderStyleModel",
            "_view_count": null,
            "_view_module": "@jupyter-widgets/base",
            "_view_module_version": "1.2.0",
            "_view_name": "StyleView",
            "description_width": "",
            "handle_color": null
          }
        },
        "0e916a3422e44a688bc3098c04d9a0e4": {
          "model_module": "@jupyter-widgets/base",
          "model_name": "LayoutModel",
          "model_module_version": "1.2.0",
          "state": {
            "_model_module": "@jupyter-widgets/base",
            "_model_module_version": "1.2.0",
            "_model_name": "LayoutModel",
            "_view_count": null,
            "_view_module": "@jupyter-widgets/base",
            "_view_module_version": "1.2.0",
            "_view_name": "LayoutView",
            "align_content": null,
            "align_items": null,
            "align_self": null,
            "border": null,
            "bottom": null,
            "display": null,
            "flex": null,
            "flex_flow": null,
            "grid_area": null,
            "grid_auto_columns": null,
            "grid_auto_flow": null,
            "grid_auto_rows": null,
            "grid_column": null,
            "grid_gap": null,
            "grid_row": null,
            "grid_template_areas": null,
            "grid_template_columns": null,
            "grid_template_rows": null,
            "height": null,
            "justify_content": null,
            "justify_items": null,
            "left": null,
            "margin": null,
            "max_height": null,
            "max_width": null,
            "min_height": null,
            "min_width": null,
            "object_fit": null,
            "object_position": null,
            "order": null,
            "overflow": null,
            "overflow_x": null,
            "overflow_y": null,
            "padding": null,
            "right": null,
            "top": null,
            "visibility": null,
            "width": null
          }
        },
        "15c5a6e485614caebf9e0f259c1cb639": {
          "model_module": "@jupyter-widgets/controls",
          "model_name": "SliderStyleModel",
          "model_module_version": "1.5.0",
          "state": {
            "_model_module": "@jupyter-widgets/controls",
            "_model_module_version": "1.5.0",
            "_model_name": "SliderStyleModel",
            "_view_count": null,
            "_view_module": "@jupyter-widgets/base",
            "_view_module_version": "1.2.0",
            "_view_name": "StyleView",
            "description_width": "",
            "handle_color": null
          }
        },
        "0a9ea51b63ce4e25bfa5a5911886757a": {
          "model_module": "@jupyter-widgets/base",
          "model_name": "LayoutModel",
          "model_module_version": "1.2.0",
          "state": {
            "_model_module": "@jupyter-widgets/base",
            "_model_module_version": "1.2.0",
            "_model_name": "LayoutModel",
            "_view_count": null,
            "_view_module": "@jupyter-widgets/base",
            "_view_module_version": "1.2.0",
            "_view_name": "LayoutView",
            "align_content": null,
            "align_items": null,
            "align_self": null,
            "border": null,
            "bottom": null,
            "display": null,
            "flex": null,
            "flex_flow": null,
            "grid_area": null,
            "grid_auto_columns": null,
            "grid_auto_flow": null,
            "grid_auto_rows": null,
            "grid_column": null,
            "grid_gap": null,
            "grid_row": null,
            "grid_template_areas": null,
            "grid_template_columns": null,
            "grid_template_rows": null,
            "height": null,
            "justify_content": null,
            "justify_items": null,
            "left": null,
            "margin": null,
            "max_height": null,
            "max_width": null,
            "min_height": null,
            "min_width": null,
            "object_fit": null,
            "object_position": null,
            "order": null,
            "overflow": null,
            "overflow_x": null,
            "overflow_y": null,
            "padding": null,
            "right": null,
            "top": null,
            "visibility": null,
            "width": null
          }
        }
      }
    }
  },
  "cells": [
    {
      "cell_type": "markdown",
      "metadata": {
        "id": "7ECUmRBSGOb4"
      },
      "source": [
        "**Learn Foundational Math 2 by Building Cartesian Graphs**<br>\n",
        "Each of these steps will lead you toward the Certification Project. Once you complete a step, click to expand the next step."
      ]
    },
    {
      "cell_type": "markdown",
      "metadata": {
        "id": "szp5flp1fA8-"
      },
      "source": [
        "# &darr; **Do this first** &darr;\n",
        "Copy this notebook to your own account by clicking the `File` button at the top, and then click `Save a copy in Drive`. You will need to be logged in to Google. The file will be in a folder called \"Colab Notebooks\" in your Google Drive."
      ]
    },
    {
      "cell_type": "markdown",
      "source": [
        "# Step 0 - Acquire the testing library"
      ],
      "metadata": {
        "id": "iNcDJ45bGtYk"
      }
    },
    {
      "cell_type": "markdown",
      "source": [
        "Please run this code to get the library file from FreeCodeCamp. Each step will use this library to test your code. You do not need to edit anything; just run this code cell and wait a few seconds until it tells you to go on to the next step."
      ],
      "metadata": {
        "id": "2_U7sdv4zaww"
      }
    },
    {
      "cell_type": "code",
      "source": [
        "# You may need to run this cell at the beginning of each new session\n",
        "\n",
        "!pip install requests\n",
        "\n",
        "# This will just take a few seconds\n",
        "\n",
        "import requests\n",
        "\n",
        "# Get the library from GitHub\n",
        "url = 'https://raw.githubusercontent.com/edatfreecodecamp/python-math/main/math-code-test-b.py'\n",
        "r = requests.get(url)\n",
        "\n",
        "# Save the library in a local working directory\n",
        "with open('math_code_test_b.py', 'w') as f:\n",
        "    f.write(r.text)\n",
        "\n",
        "# Now you can import the library\n",
        "import math_code_test_b as test\n",
        "\n",
        "# This will tell you if the code works\n",
        "test.step01()"
      ],
      "metadata": {
        "id": "aDuDRHETG3Oy",
        "colab": {
          "base_uri": "https://localhost:8080/"
        },
        "outputId": "9c06cffc-b519-4b68-b116-c6f856323a55"
      },
      "execution_count": null,
      "outputs": [
        {
          "output_type": "stream",
          "name": "stdout",
          "text": [
            "Requirement already satisfied: requests in /usr/local/lib/python3.10/dist-packages (2.31.0)\n",
            "Requirement already satisfied: charset-normalizer<4,>=2 in /usr/local/lib/python3.10/dist-packages (from requests) (3.3.2)\n",
            "Requirement already satisfied: idna<4,>=2.5 in /usr/local/lib/python3.10/dist-packages (from requests) (3.7)\n",
            "Requirement already satisfied: urllib3<3,>=1.21.1 in /usr/local/lib/python3.10/dist-packages (from requests) (2.0.7)\n",
            "Requirement already satisfied: certifi>=2017.4.17 in /usr/local/lib/python3.10/dist-packages (from requests) (2024.6.2)\n",
            "Code test Passed\n",
            "Go on to the next step\n"
          ]
        }
      ]
    },
    {
      "cell_type": "markdown",
      "metadata": {
        "id": "ZWDxpIPUFfda"
      },
      "source": [
        "# Step 1 - Cartesian Coordinates"
      ]
    },
    {
      "cell_type": "markdown",
      "metadata": {
        "id": "eTWzFpChFltm"
      },
      "source": [
        "Learn Cartesian coordinates by building a scatterplot game. The Cartesian plane is the classic x-y coordinate grid (invented by Ren$\\acute{e}$ DesCartes) where \"<i>x</i>\" is the horizontal axis and \"<i>y</i>\" is the vertical axis. Each (x,y) coordinate pair is a point on the graph. The point (0,0) is the \"origin.\" The x value tells how much to move right (positive) or left (negative) from the origin. The y value tells you how much you move up (positive) or down (negative) from the origin. Notice that you are importing `matplotlib` to create the graph. The following code just displays one quadrant of the Cartesian graph. Just run this code to see how Python displays a graph.\n"
      ]
    },
    {
      "cell_type": "code",
      "metadata": {
        "id": "OGdjnZw0Fmf7",
        "colab": {
          "base_uri": "https://localhost:8080/",
          "height": 490
        },
        "outputId": "5d69ce78-3104-408e-9e68-0c22417f9561"
      },
      "source": [
        "import matplotlib.pyplot as plt\n",
        "\n",
        "fig, ax = plt.subplots()\n",
        "plt.show()\n",
        "\n",
        "# Just run this code to see a blank graph\n",
        "import math_code_test_b as test\n",
        "test.step01()"
      ],
      "execution_count": null,
      "outputs": [
        {
          "output_type": "display_data",
          "data": {
            "text/plain": [
              "<Figure size 640x480 with 1 Axes>"
            ],
            "image/png": "[encoded data removed]"
          },
          "metadata": {}
        },
        {
          "output_type": "stream",
          "name": "stdout",
          "text": [
            "Code test Passed\n",
            "Go on to the next step\n"
          ]
        }
      ]
    },
    {
      "cell_type": "markdown",
      "metadata": {
        "id": "i1mBd8gGFvBV"
      },
      "source": [
        "# Step 2 - Cartesian Coordinates (Part 2)"
      ]
    },
    {
      "cell_type": "markdown",
      "metadata": {
        "id": "aylg20IGFvBW"
      },
      "source": [
        "Here you will create a standard window but still not highlight each axis. Run this code once, then change the window size to 20 in each direction and run it again."
      ]
    },
    {
      "cell_type": "code",
      "metadata": {
        "id": "EKfFo4_EFvBX",
        "colab": {
          "base_uri": "https://localhost:8080/",
          "height": 507
        },
        "outputId": "ee878b95-1cdb-42b3-ff45-e98b1ab7ad88"
      },
      "source": [
        "import matplotlib.pyplot as plt\n",
        "\n",
        "fig, ax = plt.subplots()\n",
        "\n",
        "# Only change the numbers in the next line:\n",
        "plt.axis([-20,20,-20,20])\n",
        "\n",
        "plt.show()\n",
        "\n",
        "\n",
        "# Only change code above this line\n",
        "import math_code_test_b as test\n",
        "test.step02(In[-1].split('# Only change code above this line')[0])"
      ],
      "execution_count": null,
      "outputs": [
        {
          "output_type": "display_data",
          "data": {
            "text/plain": [
              "<Figure size 640x480 with 1 Axes>"
            ],
            "image/png": "[encoded data removed]"
          },
          "metadata": {}
        },
        {
          "output_type": "stream",
          "name": "stdout",
          "text": [
            " \n",
            "Code test passed\n",
            "Go on to the next step\n"
          ]
        }
      ]
    },
    {
      "cell_type": "markdown",
      "source": [
        "# Step 3 - Graph Dimensions"
      ],
      "metadata": {
        "id": "MYQL57cD2ejS"
      }
    },
    {
      "cell_type": "markdown",
      "source": [
        "When you look at this code, you can see how Python sets up window dimensions. You will also notice that it is easier and more organized to define the dimensions as variables. Run the code, then change just the `xmax` value to 20 and run it again to see the difference."
      ],
      "metadata": {
        "id": "b2k229tOz9YQ"
      }
    },
    {
      "cell_type": "code",
      "source": [
        "import matplotlib.pyplot as plt\n",
        "\n",
        "xmin = -10\n",
        "xmax = 20\n",
        "ymin = -10\n",
        "ymax = 10\n",
        "\n",
        "fig, ax = plt.subplots()\n",
        "plt.axis([xmin,xmax,ymin,ymax]) # window size\n",
        "plt.show()\n",
        "\n",
        "# Only change code above this line\n",
        "import math_code_test_b as test\n",
        "test.step03(In[-1].split('# Only change code above this line')[0])"
      ],
      "metadata": {
        "id": "uXvHo-5a2Zi_",
        "colab": {
          "base_uri": "https://localhost:8080/",
          "height": 507
        },
        "outputId": "0c30b20a-f779-42aa-9e59-646db1dec1ef"
      },
      "execution_count": null,
      "outputs": [
        {
          "output_type": "display_data",
          "data": {
            "text/plain": [
              "<Figure size 640x480 with 1 Axes>"
            ],
            "image/png": "[encoded data removed]"
          },
          "metadata": {}
        },
        {
          "output_type": "stream",
          "name": "stdout",
          "text": [
            " \n",
            "Code test passed\n",
            "Go on to the next step\n"
          ]
        }
      ]
    },
    {
      "cell_type": "markdown",
      "source": [
        "# Step 4 - Displaying Axis Lines"
      ],
      "metadata": {
        "id": "jIHKROStFMcR"
      }
    },
    {
      "cell_type": "markdown",
      "source": [
        "Notice the code to `plot` a line for the x axis and a line for the y axis. The `'b'` makes the line blue. Run the code, then change each 'b' to 'g' to make the lines green."
      ],
      "metadata": {
        "id": "NhrHvY1YEndp"
      }
    },
    {
      "cell_type": "code",
      "source": [
        "import matplotlib.pyplot as plt\n",
        "\n",
        "xmin = -10\n",
        "xmax = 10\n",
        "ymin = -10\n",
        "ymax = 10\n",
        "\n",
        "fig, ax = plt.subplots()\n",
        "plt.axis([xmin,xmax,ymin,ymax]) # window size\n",
        "plt.plot([xmin,xmax],[0,0],'g') # blue x axis\n",
        "plt.plot([0,0],[ymin,ymax], 'g') # blue y axis\n",
        "\n",
        "plt.show()\n",
        "\n",
        "# Only change code above this line\n",
        "import math_code_test_b as test\n",
        "test.step04(In[-1].split('# Only change code above this line')[0])"
      ],
      "metadata": {
        "id": "mgWhRLtwFGOd",
        "colab": {
          "base_uri": "https://localhost:8080/",
          "height": 507
        },
        "outputId": "0722df20-be94-40aa-9f6d-f5bf3ef02c12"
      },
      "execution_count": null,
      "outputs": [
        {
          "output_type": "display_data",
          "data": {
            "text/plain": [
              "<Figure size 640x480 with 1 Axes>"
            ],
            "image/png": "[encoded data removed]"
          },
          "metadata": {}
        },
        {
          "output_type": "stream",
          "name": "stdout",
          "text": [
            " \n",
            "Code test passed\n",
            "Go on to the next step\n"
          ]
        }
      ]
    },
    {
      "cell_type": "markdown",
      "metadata": {
        "id": "wLDO_IRrFw7z"
      },
      "source": [
        "# Step 5 - Plotting a Point"
      ]
    },
    {
      "cell_type": "markdown",
      "metadata": {
        "id": "iOZ8TJISFw71"
      },
      "source": [
        "Now you will plot a point on the graph. Notice the `'ro'` makes the point a red dot. Run the code, then change the location of the point to (-5,1) and run it again. Keep the window size the same. Notice the difference between plotting a point and plotting a line."
      ]
    },
    {
      "cell_type": "code",
      "metadata": {
        "id": "N09NlV3DFw71",
        "colab": {
          "base_uri": "https://localhost:8080/",
          "height": 507
        },
        "outputId": "1c4e4b92-ecc3-4136-cc33-4f94e293b98a"
      },
      "source": [
        "import matplotlib.pyplot as plt\n",
        "\n",
        "xmin = -10\n",
        "xmax = 10\n",
        "ymin = -10\n",
        "ymax = 10\n",
        "\n",
        "fig, ax = plt.subplots()\n",
        "plt.axis([xmin,xmax,ymin,ymax]) # window size\n",
        "plt.plot([xmin,xmax],[0,0],'b') # blue x axis\n",
        "plt.plot([0,0],[ymin,ymax], 'b') # blue y axis\n",
        "\n",
        "# Change only the numbers in the following line:\n",
        "plt.plot([-5],[1], 'ro')\n",
        "\n",
        "plt.show()\n",
        "\n",
        "\n",
        "# Only change code above this line\n",
        "import math_code_test_b as test\n",
        "test.step05(In[-1].split('# Only change code above this line')[0])"
      ],
      "execution_count": null,
      "outputs": [
        {
          "output_type": "display_data",
          "data": {
            "text/plain": [
              "<Figure size 640x480 with 1 Axes>"
            ],
            "image/png": "[encoded data removed]"
          },
          "metadata": {}
        },
        {
          "output_type": "stream",
          "name": "stdout",
          "text": [
            " \n",
            "Code test passed\n",
            "Go on to the next step\n"
          ]
        }
      ]
    },
    {
      "cell_type": "markdown",
      "metadata": {
        "id": "ExVB2joZF0rk"
      },
      "source": [
        "# Step 6 - Plotting Several Points"
      ]
    },
    {
      "cell_type": "markdown",
      "metadata": {
        "id": "G48kO0jcF0rl"
      },
      "source": [
        "You have actually been using arrays to plot each singular point so far. In this step, you will see an array of x values and an array of y values defined before the plot statement. Notice that these two short arrays create one point: (4,2). Add two numbers to each array so that it also plots points (1,1) and (2,5)."
      ]
    },
    {
      "cell_type": "code",
      "metadata": {
        "id": "YkRIMNimF0rm",
        "colab": {
          "base_uri": "https://localhost:8080/",
          "height": 507
        },
        "outputId": "415ca1cf-0d39-4eaf-a2b4-bac9dda08821"
      },
      "source": [
        "import matplotlib.pyplot as plt\n",
        "\n",
        "# only change the next two lines:\n",
        "x = [4, 1, 2]\n",
        "y = [2, 1, 5]\n",
        "\n",
        "# Only change code above this line\n",
        "\n",
        "xmin = -10\n",
        "xmax = 10\n",
        "ymin = -10\n",
        "ymax = 10\n",
        "\n",
        "fig, ax = plt.subplots()\n",
        "plt.axis([xmin,xmax,ymin,ymax]) # window size\n",
        "plt.plot([xmin,xmax],[0,0],'b') # blue x axis\n",
        "plt.plot([0,0],[ymin,ymax],'b') # blue y axis\n",
        "\n",
        "plt.plot(x, y, 'ro') # red points\n",
        "plt.show()\n",
        "\n",
        "\n",
        "# Only change code above this line\n",
        "import math_code_test_b as test\n",
        "test.step06(In[-1].split('# Only change code above this line')[0])"
      ],
      "execution_count": null,
      "outputs": [
        {
          "output_type": "display_data",
          "data": {
            "text/plain": [
              "<Figure size 640x480 with 1 Axes>"
            ],
            "image/png": "[encoded data removed]"
          },
          "metadata": {}
        },
        {
          "output_type": "stream",
          "name": "stdout",
          "text": [
            " \n",
            "Code test passed\n",
            "Go on to the next step\n"
          ]
        }
      ]
    },
    {
      "cell_type": "markdown",
      "metadata": {
        "id": "3MqIpFTOF1m9"
      },
      "source": [
        "# Step 7 - Plotting Points and Lines"
      ]
    },
    {
      "cell_type": "markdown",
      "metadata": {
        "id": "1O1_p4BqF1m-"
      },
      "source": [
        "Notice the subtle difference between plotting points and lines. Each `plot()` statement takes an array of x values, an array of y values, and a third argument to tell what you are plotting. The default plot is a line. The letters `'r'` and `'b'` (and `'g'` and a few others) indicate common colors. The \"o\" in `'ro'` indicates a dot, where `'rs'` would indicate a red square and `'r^'` would indicate a red triangle. Plot a red line and two green squares."
      ]
    },
    {
      "cell_type": "code",
      "metadata": {
        "id": "oMRcOD7hF1m-",
        "colab": {
          "base_uri": "https://localhost:8080/",
          "height": 507
        },
        "outputId": "56460ce2-f605-419c-d794-a69634b4e43d"
      },
      "source": [
        "import matplotlib.pyplot as plt\n",
        "\n",
        "# Use these numbers:\n",
        "linex = [2,4]\n",
        "liney = [1,5]\n",
        "pointx = [1,6]\n",
        "pointy = [6,3]\n",
        "\n",
        "# Keep these lines:\n",
        "xmin = -10\n",
        "xmax = 10\n",
        "ymin = -10\n",
        "ymax = 10\n",
        "\n",
        "fig, ax = plt.subplots()\n",
        "plt.axis([xmin,xmax,ymin,ymax]) # window size\n",
        "plt.plot([xmin,xmax],[0,0],'b') # blue x axis\n",
        "plt.plot([0,0],[ymin,ymax], 'b') # blue y axis\n",
        "\n",
        "# Change the next two lines:\n",
        "plt.plot(linex, liney, 'r')\n",
        "plt.plot(pointx, pointy, 'gs')\n",
        "\n",
        "plt.show()\n",
        "\n",
        "\n",
        "# Only change code above this line\n",
        "import math_code_test_b as test\n",
        "test.step07(In[-1].split('# Only change code above this line')[0])"
      ],
      "execution_count": null,
      "outputs": [
        {
          "output_type": "display_data",
          "data": {
            "text/plain": [
              "<Figure size 640x480 with 1 Axes>"
            ],
            "image/png": "[encoded data removed]"
          },
          "metadata": {}
        },
        {
          "output_type": "stream",
          "name": "stdout",
          "text": [
            " \n",
            "Code test passed\n",
            "Go on to the next step\n"
          ]
        }
      ]
    },
    {
      "cell_type": "markdown",
      "metadata": {
        "id": "NKq_qwCsF3Dj"
      },
      "source": [
        "# Step 8 - Making a Scatterplot Game"
      ]
    },
    {
      "cell_type": "markdown",
      "metadata": {
        "id": "sBh-rNyOF3Dk"
      },
      "source": [
        "To make the game, you can make a loop that plots a random point and asks the user to input the (x,y) coordinates. Notice the `for` loop that runs three rounds of the game. Run the code, play the game, then you can go on to the next step."
      ]
    },
    {
      "cell_type": "code",
      "metadata": {
        "id": "uR5TFWbLF3Dk",
        "colab": {
          "base_uri": "https://localhost:8080/",
          "height": 1000
        },
        "outputId": "1a42885a-c5d5-4444-bf3e-6c4b893fb247"
      },
      "source": [
        "import matplotlib.pyplot as plt\n",
        "import random\n",
        "\n",
        "score = 0\n",
        "\n",
        "xmin = -8\n",
        "xmax = 8\n",
        "ymin = -8\n",
        "ymax = 8\n",
        "\n",
        "fig, ax = plt.subplots()\n",
        "\n",
        "for i in range(0,3):\n",
        "    xpoint = random.randint(xmin, xmax)\n",
        "    ypoint = random.randint(ymin, ymax)\n",
        "    x = [xpoint]\n",
        "    y = [ypoint]\n",
        "    plt.axis([xmin,xmax,ymin,ymax]) # window size\n",
        "    plt.plot([xmin,xmax],[0,0],'b') # blue x axis\n",
        "    plt.plot([0,0],[ymin,ymax], 'b') # blue y axis\n",
        "    plt.plot(x, y, 'ro')\n",
        "    print(\" \")\n",
        "    plt.grid() # displays grid lines on graph\n",
        "    plt.show()\n",
        "    guess = input(\"Enter the coordinates of the red point point: \\n\")\n",
        "    guess_array = guess.split(\",\")\n",
        "    xguess = int(guess_array[0])\n",
        "    yguess = int(guess_array[1])\n",
        "    if xguess == xpoint and yguess == ypoint:\n",
        "        score = score + 1\n",
        "\n",
        "print(\"Your score: \", score) # notice this is not in the loop\n",
        "\n",
        "\n",
        "# Only change code above this line\n",
        "import math_code_test_b as test\n",
        "test.step08(score)"
      ],
      "execution_count": null,
      "outputs": [
        {
          "output_type": "stream",
          "name": "stdout",
          "text": [
            " \n"
          ]
        },
        {
          "output_type": "display_data",
          "data": {
            "text/plain": [
              "<Figure size 640x480 with 1 Axes>"
            ],
            "image/png": "[encoded data removed]"
          },
          "metadata": {}
        },
        {
          "output_type": "stream",
          "name": "stdout",
          "text": [
            "Enter the coordinates of the red point point: \n",
            "3, -5\n",
            " \n"
          ]
        },
        {
          "output_type": "display_data",
          "data": {
            "text/plain": [
              "<Figure size 640x480 with 1 Axes>"
            ],
            "image/png": "[encoded data removed]"
          },
          "metadata": {}
        },
        {
          "output_type": "stream",
          "name": "stdout",
          "text": [
            "Enter the coordinates of the red point point: \n",
            "-3, 3\n",
            " \n"
          ]
        },
        {
          "output_type": "display_data",
          "data": {
            "text/plain": [
              "<Figure size 640x480 with 1 Axes>"
            ],
            "image/png": "[encoded data removed]"
          },
          "metadata": {}
        },
        {
          "output_type": "stream",
          "name": "stdout",
          "text": [
            "Enter the coordinates of the red point point: \n",
            "-5, 1\n",
            "Your score:  3\n",
            "You scored 3 out of 3. Good job!\n",
            "You can go on to the next step\n"
          ]
        }
      ]
    },
    {
      "cell_type": "markdown",
      "metadata": {
        "id": "wvdngkOTF4Hi"
      },
      "source": [
        "# Step 9 - Graphing Linear Equations"
      ]
    },
    {
      "cell_type": "markdown",
      "metadata": {
        "id": "fTzBZAmtF4Hj"
      },
      "source": [
        "Besides graphing points, you can graph <i>linear equations</i> (or <i>functions</i>). The graph will be a straight line, and the equation will not have any exponents. For these graphs, you will import `numpy` and use the `linspace()` function to define the x values. That function takes three arguments: starting number, ending number, and number of steps. Notice the `plot()` function only has two arguments: the x values and a function (y = 2x - 3) for the y values. Run this code, then use the same x values to graph `y = -x + 3`."
      ]
    },
    {
      "cell_type": "code",
      "metadata": {
        "id": "xJ0pkcFsF4Hj",
        "colab": {
          "base_uri": "https://localhost:8080/",
          "height": 507
        },
        "outputId": "b100648b-4db3-4078-a868-56f112aa8e03"
      },
      "source": [
        "import matplotlib.pyplot as plt\n",
        "import numpy as np\n",
        "\n",
        "xmin = -10\n",
        "xmax = 10\n",
        "ymin = -10\n",
        "ymax = 10\n",
        "\n",
        "fig, ax = plt.subplots()\n",
        "plt.axis([xmin,xmax,ymin,ymax]) # window size\n",
        "plt.plot([xmin,xmax],[0,0],'b') # blue x axis\n",
        "plt.plot([0,0],[ymin,ymax], 'b') # blue y axis\n",
        "\n",
        "x = np.linspace(-9,9,36)\n",
        "\n",
        "# Only change the next line to graph y = -x + 3\n",
        "plt.plot(x, -x + 3)\n",
        "\n",
        "\n",
        "\n",
        "plt.show()\n",
        "\n",
        "\n",
        "# Only change code above this line\n",
        "import math_code_test_b as test\n",
        "test.step09(In[-1].split('# Only change code above this line')[0])"
      ],
      "execution_count": null,
      "outputs": [
        {
          "output_type": "display_data",
          "data": {
            "text/plain": [
              "<Figure size 640x480 with 1 Axes>"
            ],
            "image/png": "[encoded data removed]"
          },
          "metadata": {}
        },
        {
          "output_type": "stream",
          "name": "stdout",
          "text": [
            " \n",
            "Code test passed\n",
            "Go on to the next step\n"
          ]
        }
      ]
    },
    {
      "cell_type": "markdown",
      "metadata": {
        "id": "Q19Wm90DF5zf"
      },
      "source": [
        "# Step 10 - Creating Interactive Graphs"
      ]
    },
    {
      "cell_type": "markdown",
      "metadata": {
        "id": "JNEjD9DxF5zh"
      },
      "source": [
        "Like the previous graphs, you will graph a line. This time, you will create two sliders to change the <i>slope</i> and the <i>y intecept</i>. Notice the additional imports and other changes: You define a function with two arguments. All of the graphing happens within that `f(m,b)` function. The `interactive()` function calls your defined function and sets the boundaries for the sliders. Run this code then adjust the sliders and notice how they affect the graph."
      ]
    },
    {
      "cell_type": "code",
      "metadata": {
        "id": "9lh41CENF5zh",
        "colab": {
          "base_uri": "https://localhost:8080/",
          "height": 571,
          "referenced_widgets": [
            "8883d6e5d0924549999a23732e73f4fb",
            "506067d370e54dffbab382284d2b191c",
            "ffeb3cc9e3f74b36bc8421ef6105f290",
            "d6b4e3a8f27443eb9e6781f042817b69",
            "a02530b8bfbc433cb9d22077fab6b062",
            "3aecc6a44c014b04b3e762fbf54acb37",
            "202031e37d1d4d41aaa1e3becfdc6d88",
            "b6f7ad9f0e29482a868cf397b3b17092",
            "433fe0c989bb49d798ffc4a594367b04",
            "98ec0e5d1c3a408f8f1237b38a0ecbd7"
          ]
        },
        "outputId": "87c4ce0c-b460-47db-8ac9-f7efb659e199"
      },
      "source": [
        "%matplotlib inline\n",
        "from ipywidgets import interactive\n",
        "import matplotlib.pyplot as plt\n",
        "import numpy as np\n",
        "\n",
        "# Define the graphing function\n",
        "def f(m, b):\n",
        "    xmin = -10\n",
        "    xmax = 10\n",
        "    ymin = -10\n",
        "    ymax = 10\n",
        "    plt.axis([xmin,xmax,ymin,ymax]) # window size\n",
        "    plt.plot([xmin,xmax],[0,0],'black') # black x axis\n",
        "    plt.plot([0,0],[ymin,ymax], 'black') # black y axis\n",
        "    plt.title('y = mx + b')\n",
        "    x = np.linspace(-10, 10, 1000)\n",
        "    plt.plot(x, m*x+b)\n",
        "    plt.show()\n",
        "\n",
        "# Set up the sliders\n",
        "interactive_plot = interactive(f, m=(-9, 9), b=(-9, 9))\n",
        "interactive_plot\n",
        "\n",
        "\n",
        "# Just run this code and use the sliders\n",
        "import math_code_test_b as test\n",
        "test.step01()\n",
        "interactive_plot"
      ],
      "execution_count": null,
      "outputs": [
        {
          "output_type": "stream",
          "name": "stdout",
          "text": [
            "Code test Passed\n",
            "Go on to the next step\n"
          ]
        },
        {
          "output_type": "display_data",
          "data": {
            "text/plain": [
              "interactive(children=(IntSlider(value=0, description='m', max=9, min=-9), IntSlider(value=0, description='b', …"
            ],
            "application/vnd.jupyter.widget-view+json": {
              "version_major": 2,
              "version_minor": 0,
              "model_id": "8883d6e5d0924549999a23732e73f4fb"
            }
          },
          "metadata": {}
        }
      ]
    },
    {
      "cell_type": "markdown",
      "metadata": {
        "id": "YSY2k7S3F6d7"
      },
      "source": [
        "# Step 11 - Graphing Systems"
      ]
    },
    {
      "cell_type": "markdown",
      "metadata": {
        "id": "8MG28-VPF6d8"
      },
      "source": [
        "When you graph two equations on the same coordinate plane, they are a <i>system of equations</i>. Notice how the `points` variable defines the number of points and the `linspace()` function uses that variable. Run this code to see the graph, then change `y2` so that it graphs y = -x - 3."
      ]
    },
    {
      "cell_type": "code",
      "metadata": {
        "id": "wYHGm-PAF6d9",
        "colab": {
          "base_uri": "https://localhost:8080/",
          "height": 507
        },
        "outputId": "e07e6476-5832-4323-9c56-b419d10fee17"
      },
      "source": [
        "import matplotlib.pyplot as plt\n",
        "import numpy as np\n",
        "\n",
        "\n",
        "xmin = -10\n",
        "xmax = 10\n",
        "ymin = -10\n",
        "ymax = 10\n",
        "points = 2*(xmax-xmin)\n",
        "\n",
        "# Define the x values once\n",
        "x = np.linspace(xmin,xmax,points)\n",
        "\n",
        "fig, ax = plt.subplots()\n",
        "plt.axis([xmin,xmax,ymin,ymax]) # window size\n",
        "plt.plot([xmin,xmax],[0,0],'b') # blue x axis\n",
        "plt.plot([0,0],[ymin,ymax], 'b') # blue y axis\n",
        "\n",
        "# line 1\n",
        "y1 = 2*x\n",
        "plt.plot(x, y1)\n",
        "\n",
        "# line 2\n",
        "#y2 = x**2 - 3\n",
        "y2 = -x - 3\n",
        "plt.plot(x, y2)\n",
        "\n",
        "plt.show()\n",
        "\n",
        "\n",
        "# Only change code above this line\n",
        "import math_code_test_b as test\n",
        "test.step11(In[-1].split('# Only change code above this line')[0])"
      ],
      "execution_count": null,
      "outputs": [
        {
          "output_type": "display_data",
          "data": {
            "text/plain": [
              "<Figure size 640x480 with 1 Axes>"
            ],
            "image/png": "[encoded data removed]"
          },
          "metadata": {}
        },
        {
          "output_type": "stream",
          "name": "stdout",
          "text": [
            " \n",
            "Code test passed\n",
            "Go on to the next step\n"
          ]
        }
      ]
    },
    {
      "cell_type": "markdown",
      "metadata": {
        "id": "ykj42UNeF7K5"
      },
      "source": [
        "# Step 12 - Systems of Equations - Algebra"
      ]
    },
    {
      "cell_type": "markdown",
      "metadata": {
        "id": "n_-rpo6nF7K7"
      },
      "source": [
        "In a system of equations, the solution is the point where the two equations intersect, the (x,y) values that work in each equation. To work with algabraic expressions, you will import `sympy` and define x and y as symbols. If you have two equations and two variables, set each equation equal to zero. The `linsolve()` function takes the non-zero side of each equation and the variables used. Notice the syntax. Run the code, then change the two equations to solve 2x + y - 15 = 0 and 3x - y = 0."
      ]
    },
    {
      "cell_type": "code",
      "metadata": {
        "id": "6dFzZfqRF7K7",
        "colab": {
          "base_uri": "https://localhost:8080/"
        },
        "outputId": "1bf8a01f-899b-473a-ae7c-50f442cb0563"
      },
      "source": [
        "from sympy import *\n",
        "x,y = symbols('x y')\n",
        "\n",
        "\n",
        "# Change the equations in the following line:\n",
        "#print(linsolve([2*x + y - 1, x - 2*y + 7], (x, y)))\n",
        "print(linsolve([2*x + y - 15, 3*x - y], (x, y)))\n",
        "\n",
        "# Only change code above this line\n",
        "import math_code_test_b as test\n",
        "test.step12(In[-1].split('# Only change code above this line')[0])"
      ],
      "execution_count": null,
      "outputs": [
        {
          "output_type": "stream",
          "name": "stdout",
          "text": [
            "{(3, 9)}\n",
            " \n",
            "Code test passed\n",
            "Go on to the next step\n"
          ]
        }
      ]
    },
    {
      "cell_type": "markdown",
      "source": [
        "# Step 13 - Solutions as Coordinates"
      ],
      "metadata": {
        "id": "QSKeBTgXHRAv"
      }
    },
    {
      "cell_type": "markdown",
      "source": [
        "The `linsolve()` function returns a <i>finite set</i>, and you can convert that \"finite set\" into (x,y) coordinates. Notice how the code parses the `solution` variable into two separate variables. Just run the code to see how this works."
      ],
      "metadata": {
        "id": "D2Ca3L-fHCzi"
      }
    },
    {
      "cell_type": "code",
      "source": [
        "from sympy import *\n",
        "x,y = symbols('x y')\n",
        "\n",
        "# Use variables for each equation\n",
        "first = x + y\n",
        "second = x - y\n",
        "\n",
        "# parse finite set answer as coordinate pair\n",
        "solution = linsolve([first, second], (x, y))\n",
        "x_solution = solution.args[0][0]\n",
        "y_solution = solution.args[0][1]\n",
        "\n",
        "print(\"x = \", x_solution)\n",
        "print(\"y = \", y_solution)\n",
        "print(\" \")\n",
        "print(\"Solution: (\",x_solution,\",\",y_solution,\")\")\n",
        "\n",
        "\n",
        "# Just run this code\n",
        "import math_code_test_b as test\n",
        "test.step01()"
      ],
      "metadata": {
        "id": "7uhBD85SHK3S",
        "colab": {
          "base_uri": "https://localhost:8080/"
        },
        "outputId": "20a90bc2-bb4f-4a42-8ee1-08a44f870554"
      },
      "execution_count": null,
      "outputs": [
        {
          "output_type": "stream",
          "name": "stdout",
          "text": [
            "x =  0\n",
            "y =  0\n",
            " \n",
            "Solution: ( 0 , 0 )\n",
            "Code test Passed\n",
            "Go on to the next step\n"
          ]
        }
      ]
    },
    {
      "cell_type": "markdown",
      "metadata": {
        "id": "0epVLhL0F88U"
      },
      "source": [
        "# Step 14 - Systems from User Input"
      ]
    },
    {
      "cell_type": "markdown",
      "metadata": {
        "id": "VhoI5uNrF88V"
      },
      "source": [
        "For more flexibility, you can get each equation as user input (instead of defining them in the code). Run this code and try it out - to solve any system of two equations."
      ]
    },
    {
      "cell_type": "code",
      "metadata": {
        "id": "8irtXhucF88W",
        "colab": {
          "base_uri": "https://localhost:8080/"
        },
        "outputId": "9c2e0218-ca94-4791-e68c-4080b8ef7b16"
      },
      "source": [
        "from sympy import *\n",
        "\n",
        "x,y = symbols('x y')\n",
        "print(\"Remember to use Python syntax with x and y as variables\")\n",
        "print(\"Notice how each equation is already set equal to zero\")\n",
        "first = input(\"Enter the first equation: 0 = \")\n",
        "second = input(\"Enter the second equation: 0 = \")\n",
        "solution = linsolve([first, second], (x, y))\n",
        "x_solution = solution.args[0][0]\n",
        "y_solution = solution.args[0][1]\n",
        "\n",
        "print(\"x = \", x_solution)\n",
        "print(\"y = \", y_solution)\n",
        "\n",
        "\n",
        "# Just run this code and test it with different equations\n",
        "import math_code_test_b as test\n",
        "test.step14()"
      ],
      "execution_count": null,
      "outputs": [
        {
          "output_type": "stream",
          "name": "stdout",
          "text": [
            "Remember to use Python syntax with x and y as variables\n",
            "Notice how each equation is already set equal to zero\n",
            "Enter the first equation: 0 = 2*x - y\n",
            "Enter the second equation: 0 = x + y + 1\n",
            "x =  -1/3\n",
            "y =  -2/3\n",
            " \n",
            "If you didn't get a syntax error, code test passed\n"
          ]
        }
      ]
    },
    {
      "cell_type": "markdown",
      "source": [
        "# Step 15 - Solve and graph a system"
      ],
      "metadata": {
        "id": "8FCFQaq1Hizh"
      }
    },
    {
      "cell_type": "markdown",
      "source": [
        "Now you can put it all together: solve a system of equations, graph the system, and plot a point where the two lines intersect. Notice how this code is not like the previous solving equations code or the graphing code or the user input code. Python uses `sympy` to get the (x,y) solution and `numpy` to get the values to graph, so the user inputs nummerical values and the code uses them in two different ways. Think about how you would do this if the user input values for ax + by = c."
      ],
      "metadata": {
        "id": "wMwKLQvyHaWp"
      }
    },
    {
      "cell_type": "code",
      "source": [
        "from sympy import *\n",
        "import matplotlib.pyplot as plt\n",
        "import numpy as np\n",
        "\n",
        "print(\"First equation: y = mx + b\")\n",
        "mb_1 = input(\"Enter m and b, separated by a comma: \")\n",
        "mb_in1 = mb_1.split(\",\")\n",
        "m1 = float(mb_in1[0])\n",
        "b1 = float(mb_in1[1])\n",
        "\n",
        "print(\"Second equation: y = mx + b\")\n",
        "mb_2 = input(\"Enter m and b, separated by a comma: \")\n",
        "mb_in2 = mb_2.split(\",\")\n",
        "m2 = float(mb_in2[0])\n",
        "b2 = float(mb_in2[1])\n",
        "\n",
        "# Solve the system of equations\n",
        "x,y = symbols('x y')\n",
        "first = m1*x + b1 - y\n",
        "second = m2*x + b2 - y\n",
        "solution = linsolve([first, second], (x, y))\n",
        "x_solution = round(float(solution.args[0][0]),3)\n",
        "y_solution = round(float(solution.args[0][1]),3)\n",
        "\n",
        "# Make sure the window includes the solution\n",
        "xmin = int(x_solution) - 20\n",
        "xmax = int(x_solution) + 20\n",
        "ymin = int(y_solution) - 20\n",
        "ymax = int(y_solution) + 20\n",
        "points = 2*(xmax-xmin)\n",
        "\n",
        "# Define the x values once for the graph\n",
        "graph_x = np.linspace(xmin,xmax,points)\n",
        "\n",
        "# Define the y values for the graph\n",
        "y1 = m1*graph_x + b1\n",
        "y2 = m2*graph_x + b2\n",
        "\n",
        "fig, ax = plt.subplots()\n",
        "plt.axis([xmin,xmax,ymin,ymax]) # window size\n",
        "plt.plot([xmin,xmax],[0,0],'b') # blue x axis\n",
        "plt.plot([0,0],[ymin,ymax], 'b') # blue y axis2\n",
        "\n",
        "# line 1\n",
        "plt.plot(graph_x, y1)\n",
        "\n",
        "# line 2\n",
        "plt.plot(graph_x, y2)\n",
        "\n",
        "# point\n",
        "plt.plot([x_solution],[y_solution],'ro')\n",
        "\n",
        "plt.show()\n",
        "print(\" \")\n",
        "print(\"Solution: (\", x_solution, \",\", y_solution, \")\")\n",
        "\n",
        "\n",
        "# Run this code and test it with different equations\n"
      ],
      "metadata": {
        "id": "wLBNm5j6HffY",
        "colab": {
          "base_uri": "https://localhost:8080/",
          "height": 559
        },
        "outputId": "f3501c42-63d1-49c5-be86-f15dca58c11c"
      },
      "execution_count": null,
      "outputs": [
        {
          "name": "stdout",
          "output_type": "stream",
          "text": [
            "First equation: y = mx + b\n",
            "Enter m and b, separated by a comma: 2, -4\n",
            "Second equation: y = mx + b\n",
            "Enter m and b, separated by a comma: -2, 4\n"
          ]
        },
        {
          "output_type": "display_data",
          "data": {
            "text/plain": [
              "<Figure size 640x480 with 1 Axes>"
            ],
            "image/png": "[encoded data removed]"
          },
          "metadata": {}
        },
        {
          "output_type": "stream",
          "name": "stdout",
          "text": [
            " \n",
            "Solution: ( 2.0 , 0.0 )\n"
          ]
        }
      ]
    },
    {
      "cell_type": "markdown",
      "metadata": {
        "id": "BhKPZQJZF9w0"
      },
      "source": [
        "# Step 16 - Quadratic Functions"
      ]
    },
    {
      "cell_type": "markdown",
      "metadata": {
        "id": "BYmD2FYHF9w1"
      },
      "source": [
        "Any function that involves x<sup>2</sup> is a \"quadratic\" function because \"x squared\" could be the area of a square. The graph is a parabola. The formula is y = ax<sup>2</sup> + bx + c, where `b` and `c` can be zero but `a` has to be a number. Here is a graph of the simplest parabola."
      ]
    },
    {
      "cell_type": "code",
      "metadata": {
        "id": "sfQl_A1CF9w1",
        "colab": {
          "base_uri": "https://localhost:8080/",
          "height": 490
        },
        "outputId": "aea1a9ff-821b-4553-ecb5-181a42696e2d"
      },
      "source": [
        "import matplotlib.pyplot as plt\n",
        "import numpy as np\n",
        "\n",
        "xmin = -10\n",
        "xmax = 10\n",
        "ymin = -10\n",
        "ymax = 10\n",
        "points = 2*(xmax-xmin)\n",
        "x = np.linspace(xmin,xmax,points)\n",
        "\n",
        "fig, ax = plt.subplots()\n",
        "plt.axis([xmin,xmax,ymin,ymax]) # window size\n",
        "plt.plot([xmin,xmax],[0,0],'b') # blue x axis\n",
        "plt.plot([0,0],[ymin,ymax], 'b') # blue y axis\n",
        "\n",
        "y = x**2\n",
        "\n",
        "plt.plot(x,y)\n",
        "plt.show()\n",
        "\n",
        "# Just run this code. The next step will transform the graph\n",
        "import math_code_test_b as test\n",
        "test.step01()"
      ],
      "execution_count": null,
      "outputs": [
        {
          "output_type": "display_data",
          "data": {
            "text/plain": [
              "<Figure size 640x480 with 1 Axes>"
            ],
            "image/png": "[encoded data removed]"
          },
          "metadata": {}
        },
        {
          "output_type": "stream",
          "name": "stdout",
          "text": [
            "Code test Passed\n",
            "Go on to the next step\n"
          ]
        }
      ]
    },
    {
      "cell_type": "markdown",
      "metadata": {
        "id": "I0mklEluF-jI"
      },
      "source": [
        "# Step 17 - Quadratic Function ABC's"
      ]
    },
    {
      "cell_type": "markdown",
      "metadata": {
        "id": "AJuHf8ySF-jJ"
      },
      "source": [
        "Using the parabola formula y = ax<sup>2</sup> + bx + c, you will change the values of `a`, `b`, and `c` to see how they affect the graph. Run the code and use the sliders to change the values of `a` and `b`. Then change the code in the three places indicated to add a slider for `c`. You may remember this type of interactive graph from an earlier step. Move each slider to see how it affects the graph."
      ]
    },
    {
      "cell_type": "code",
      "metadata": {
        "id": "9IVFnXxVF-jJ",
        "colab": {
          "base_uri": "https://localhost:8080/",
          "height": 603,
          "referenced_widgets": [
            "e36094c47c14485b9cd943ee09e2b37b",
            "49e6cc7e72a64a6ba0df86dba29cd8b7",
            "1716fbb98e5740a981505e43bc66bc4e",
            "0bc6925e4654445ab7a43d6fd5df053e",
            "1c69832e6a794fce953d27cc95521e2d",
            "f52a9293ac6b4c36935ce213b116a902",
            "b3cd56aebca84bff9641c14ac2296209",
            "1575a02007da4e6e9879057492039dee",
            "52e8b914f4af48d8b8b5e64f98185e72",
            "0adec52bba7f4a409fde4330c26d0e01",
            "0e916a3422e44a688bc3098c04d9a0e4",
            "15c5a6e485614caebf9e0f259c1cb639",
            "0a9ea51b63ce4e25bfa5a5911886757a"
          ]
        },
        "outputId": "bf1a6cb3-69ac-49a5-c83f-1db952b03ab7"
      },
      "source": [
        "%matplotlib inline\n",
        "from ipywidgets import interactive\n",
        "import matplotlib.pyplot as plt\n",
        "import numpy as np\n",
        "\n",
        "# Change the next line to include c:\n",
        "def f(a,b,c):\n",
        "    plt.axis([-10,10,-10,10]) # window size\n",
        "    plt.plot([-10,10],[0,0],'k') # blue x axis\n",
        "    plt.plot([0,0],[-10,10], 'k') # blue y axis\n",
        "    x = np.linspace(-10, 10, 1000)\n",
        "\n",
        "    # Change the next line to add c to the end of the function:\n",
        "    plt.plot(x, a*x**2 + b*x + c)\n",
        "    plt.show()\n",
        "\n",
        "# Change the next line to add a slider to change the c value\n",
        "interactive_plot = interactive(f, a=(-9, 9), b=(-9,9), c=(-9,9))\n",
        "interactive_plot\n",
        "\n",
        "\n",
        "# Run the code once, then change the code and run it again\n",
        "\n",
        "# Only change code above this line\n",
        "import math_code_test_b as test\n",
        "test.step17(In[-1].split('# Only change code above this line')[0])\n",
        "interactive_plot"
      ],
      "execution_count": null,
      "outputs": [
        {
          "output_type": "stream",
          "name": "stdout",
          "text": [
            "Code test passed\n",
            "Go on to the next step\n",
            " \n"
          ]
        },
        {
          "output_type": "display_data",
          "data": {
            "text/plain": [
              "interactive(children=(IntSlider(value=0, description='a', max=9, min=-9), IntSlider(value=0, description='b', …"
            ],
            "application/vnd.jupyter.widget-view+json": {
              "version_major": 2,
              "version_minor": 0,
              "model_id": "e36094c47c14485b9cd943ee09e2b37b"
            }
          },
          "metadata": {}
        }
      ]
    },
    {
      "cell_type": "markdown",
      "metadata": {
        "id": "eFehWNexGASC"
      },
      "source": [
        "# Step 18 - Quadratic Functions - Vertex"
      ]
    },
    {
      "cell_type": "markdown",
      "metadata": {
        "id": "p8hAZw_CGASD"
      },
      "source": [
        "The <i>vertex</i> is the point where the parabola turns around. The x value of the vertex is $\\frac{-b}{2a}$ (and then you would calculate the y value to get the point). Write the code to find the vertex, given `a`, `b`, and `c` as inputs. Remember the parabola forumula is y = ax<sup>2</sup> + bx + c"
      ]
    },
    {
      "cell_type": "code",
      "metadata": {
        "id": "cjMI5uZZGASD",
        "colab": {
          "base_uri": "https://localhost:8080/",
          "height": 606
        },
        "outputId": "2e3b0ca7-7772-421f-f92f-6296aecf00c6"
      },
      "source": [
        "import matplotlib.pyplot as plt\n",
        "import numpy as np\n",
        "\n",
        "# \\u00b2 prints 2 as an exponent\n",
        "print(\"y = ax\\u00b2 + bx + c\")\n",
        "\n",
        "a = float(input(\"a = \"))\n",
        "b = float(input(\"b = \"))\n",
        "c = float(input(\"c = \"))\n",
        "\n",
        "# Write your code here, changing vx and vy\n",
        "vx = -b/(2*a)                # \"vertex formula\"\n",
        "#vy = -(b**2 - 4*a*c)/(4*a)   # \"vertex formula\"\n",
        "vy = a*vx**2 + b*vx + c      # \"vertex formula\"\n",
        "\n",
        "# Only change the code above this line\n",
        "\n",
        "print(\" (\", vx, \" , \", vy, \")\")\n",
        "print(\" \")\n",
        "\n",
        "xmin = int(vx)-10\n",
        "xmax = int(vx)+10\n",
        "ymin = int(vy)-10\n",
        "ymax = int(vy)+10\n",
        "points = 2*(xmax-xmin)\n",
        "x = np.linspace(xmin,xmax,points)\n",
        "\n",
        "fig, ax = plt.subplots()\n",
        "plt.axis([xmin,xmax,ymin,ymax]) # window size\n",
        "plt.plot([xmin,xmax],[0,0],'b') # blue x axis\n",
        "plt.plot([0,0],[ymin,ymax], 'b') # blue y axis\n",
        "\n",
        "plt.plot([vx],[vy],'ro') # vertex\n",
        "\n",
        "x = np.linspace(vx-10,vx+10,100)\n",
        "y = a*x**2 + b*x + c\n",
        "plt.plot(x,y)\n",
        "\n",
        "plt.show()\n",
        "\n",
        "\n",
        "# Only change code above this line\n",
        "import math_code_test_b as test\n",
        "test.step18(In[-1].split('# Only change code above this line')[0])"
      ],
      "execution_count": null,
      "outputs": [
        {
          "output_type": "stream",
          "name": "stdout",
          "text": [
            "y = ax² + bx + c\n",
            "a = 1\n",
            "b = -3\n",
            "c = 1\n",
            " ( 1.5  ,  -1.25 )\n",
            " \n"
          ]
        },
        {
          "output_type": "display_data",
          "data": {
            "text/plain": [
              "<Figure size 640x480 with 1 Axes>"
            ],
            "image/png": "[encoded data removed]"
          },
          "metadata": {}
        },
        {
          "output_type": "stream",
          "name": "stdout",
          "text": [
            " \n",
            "Code test passed\n",
            "Go on to the next step\n"
          ]
        }
      ]
    },
    {
      "cell_type": "markdown",
      "metadata": {
        "id": "WbqugasGGCKJ"
      },
      "source": [
        "# Step 19 - Projectile Motion"
      ]
    },
    {
      "cell_type": "markdown",
      "metadata": {
        "id": "TtM_pFHaGCKK"
      },
      "source": [
        "The path of every projectile is a parabola. For something thrown or launched upward, the `a` value is -4.9 (meters per second squared); the `b` value is the initial velocity (in meters per second); the `c` value is the initial height (in meters); the `x` value is time (in seconds); and the `y` value is the height at that time. In this code, change `vx` and `vy` to represent the vertex. Plotting that (x,y) vertex point is already in the code."
      ]
    },
    {
      "cell_type": "code",
      "metadata": {
        "id": "FTNV_bjuGCKL",
        "colab": {
          "base_uri": "https://localhost:8080/",
          "height": 572
        },
        "outputId": "c995aa46-96b6-4d44-e4aa-54241644ca75"
      },
      "source": [
        "import matplotlib.pyplot as plt\n",
        "import numpy as np\n",
        "\n",
        "a = -4.9\n",
        "b = float(input(\"Initial velocity = \"))\n",
        "c = float(input(\"Initial height = \"))\n",
        "\n",
        "# Change vx and vy to represent the vertex\n",
        "vx = -b/(2*a)\n",
        "vy = a*vx**2 + b*vx + c\n",
        "\n",
        "# Also change the following dimensions to display the vertex\n",
        "xmin = int(vx)-10\n",
        "xmax = int(vx)+10\n",
        "ymin = int(vy)-10\n",
        "ymax = int(vy)+10\n",
        "\n",
        "# You do not need to change anything below this line\n",
        "points = 2*(xmax-xmin)\n",
        "x = np.linspace(xmin,xmax,points)\n",
        "y = a*x**2 + b*x + c\n",
        "\n",
        "fig, ax = plt.subplots()\n",
        "plt.axis([xmin,xmax,ymin,ymax]) # window size\n",
        "plt.plot([xmin,xmax],[0,0],'b') # blue x axis\n",
        "plt.plot([0,0],[ymin,ymax], 'b') # blue y axis\n",
        "\n",
        "plt.plot(x,y) # plot the line for the equation\n",
        "plt.plot([vx],[vy],'ro') # plot the vertex point\n",
        "\n",
        "print(\" (\", vx, \",\", vy, \")\")\n",
        "print(\" \")\n",
        "plt.show()\n",
        "\n",
        "\n",
        "# Only change code above this line\n",
        "import math_code_test_b as test\n",
        "test.step19(In[-1].split('# Only change code above this line')[0])"
      ],
      "execution_count": null,
      "outputs": [
        {
          "output_type": "stream",
          "name": "stdout",
          "text": [
            "Initial velocity = 20\n",
            "Initial height = 1.5\n",
            " ( 2.0408163265306123 , 21.90816326530612 )\n",
            " \n"
          ]
        },
        {
          "output_type": "display_data",
          "data": {
            "text/plain": [
              "<Figure size 640x480 with 1 Axes>"
            ],
            "image/png": "[encoded data removed]"
          },
          "metadata": {}
        },
        {
          "output_type": "stream",
          "name": "stdout",
          "text": [
            " \n",
            "Code test passed\n",
            "Go on to the next step\n"
          ]
        }
      ]
    },
    {
      "cell_type": "markdown",
      "metadata": {
        "id": "hN_fvENUGBAm"
      },
      "source": [
        "# Step 20 - Quadratic Functions - C"
      ]
    },
    {
      "cell_type": "markdown",
      "metadata": {
        "id": "GrJNli5pGBAn"
      },
      "source": [
        "Like many other functions, the `c` value (also called the \"constant\" because it is not a variable) affects the vertical shift of the graph. Run the following code to see how changing the `c` value changes the graph."
      ]
    },
    {
      "cell_type": "code",
      "metadata": {
        "id": "hiSN0VexGBAn",
        "colab": {
          "base_uri": "https://localhost:8080/",
          "height": 507
        },
        "outputId": "4ba9a04d-2591-45e4-8c60-a89269ce4741"
      },
      "source": [
        "import matplotlib.pyplot as plt\n",
        "import numpy as np\n",
        "import time\n",
        "from IPython import display\n",
        "\n",
        "x = np.linspace(-4,4,16)\n",
        "fig, ax = plt.subplots()\n",
        "cvalue = \"c = \"\n",
        "\n",
        "for c in range(10):\n",
        "    y = -x**2+c\n",
        "    plt.plot(x,y)\n",
        "    cvalue = \"c = \", c\n",
        "    ax.set_title(cvalue)\n",
        "    display.display(plt.gcf())\n",
        "    time.sleep(0.5)\n",
        "    display.clear_output(wait=True)\n",
        "\n",
        "# Just run this code\n",
        "import math_code_test_b as test\n",
        "test.step01()"
      ],
      "execution_count": null,
      "outputs": [
        {
          "output_type": "stream",
          "name": "stdout",
          "text": [
            "Code test Passed\n",
            "Go on to the next step\n"
          ]
        },
        {
          "output_type": "display_data",
          "data": {
            "text/plain": [
              "<Figure size 640x480 with 1 Axes>"
            ],
            "image/png": "[encoded data removed]"
          },
          "metadata": {}
        }
      ]
    },
    {
      "cell_type": "markdown",
      "metadata": {
        "id": "vteEy9QFGD5I"
      },
      "source": [
        "# Step 21 - The Quadratic Formula"
      ]
    },
    {
      "cell_type": "markdown",
      "metadata": {
        "id": "xALyhEsNGD5J"
      },
      "source": [
        "For a projectile, you also need to find the point when it hits the ground. On a graph, you would call these points the \"roots\" or \"x intercepts\" or \"zeros\" (because y = 0 at these points). The <i>quadratic formula</i> gives you the x value when y = 0. Given `a`,`b` and `c`, here is the quadratic formula:<br> x = $\\frac{-b \\pm \\sqrt{b^2 - 4ac}}{2a}$ Notice it's the vertex plus or minus something: $\\frac{-b}{2a} + \\frac{\\sqrt{b^2 - 4ac}}{2a}$ and $\\frac{-b}{2a} - \\frac{\\sqrt{b^2 - 4ac}}{2a}$ <br>\n",
        "Write the code to output two x values, given a, b, and c as input. Use `math.sqrt()` for the square root."
      ]
    },
    {
      "cell_type": "code",
      "metadata": {
        "id": "R3OIh1pOGD5K",
        "colab": {
          "base_uri": "https://localhost:8080/"
        },
        "outputId": "623359e8-1cdb-451f-c4b5-e3b37ec8705f"
      },
      "source": [
        "import math\n",
        "\n",
        "# \\u00b2 prints 2 as an exponent\n",
        "print(\"0 = ax\\u00b2 + bx + c\")\n",
        "a = float(input(\"a = \"))\n",
        "b = float(input(\"b = \"))\n",
        "c = float(input(\"c = \"))\n",
        "x1 = 0\n",
        "x2 = 0\n",
        "\n",
        "# Check for non-real answers:\n",
        "if b**2-4*a*c < 0:\n",
        "    print(\"No real roots\")\n",
        "else:\n",
        "    # Write your code here, changing x1 and x2\n",
        "    x1 = (-b + math.sqrt(b**2 - 4*a*c))/(2*a)\n",
        "    x2 = (-b - math.sqrt(b**2 - 4*a*c))/(2*a)\n",
        "    print(\"The roots are \", x1, \" and \", x2)\n",
        "\n",
        "\n",
        "# Only change code above this line\n",
        "import math_code_test_b as test\n",
        "test.step21(In[-1].split('# Only change code above this line')[0])"
      ],
      "execution_count": null,
      "outputs": [
        {
          "output_type": "stream",
          "name": "stdout",
          "text": [
            "0 = ax² + bx + c\n",
            "a = 1\n",
            "b = -5\n",
            "c = 4\n",
            "The roots are  4.0  and  1.0\n",
            " \n",
            "Code test passed\n",
            "Go on to the next step\n"
          ]
        }
      ]
    },
    {
      "cell_type": "markdown",
      "metadata": {
        "id": "VXxx7RCVSs4j"
      },
      "source": [
        "# Step 22 - Table of Values"
      ]
    },
    {
      "cell_type": "markdown",
      "metadata": {
        "id": "9Bd8bgPISiRH"
      },
      "source": [
        "In addition to graphing a function, you may need a table of values. This code shows how to make a simple table of (x,y) values. Run the code, then change the title to \"y = 3x + 2\" and change the function in the table."
      ]
    },
    {
      "cell_type": "code",
      "metadata": {
        "id": "e4dBSioJGGd3",
        "colab": {
          "base_uri": "https://localhost:8080/",
          "height": 500
        },
        "outputId": "a389e0e6-cc6c-4484-8d0a-8a56714f64d8"
      },
      "source": [
        "import numpy as np\n",
        "import matplotlib.pyplot as plt\n",
        "\n",
        "ax = plt.subplot()\n",
        "ax.set_axis_off()\n",
        "title = \"y = 3x + 2\"  # Change this title\n",
        "cols = ('x', 'y')\n",
        "rows = [[0,0]]\n",
        "for a in range(1,10):\n",
        "    rows.append([a, 3*a+2]) # Change only the function in this line\n",
        "\n",
        "ax.set_title(title)\n",
        "plt.table(cellText=rows, colLabels=cols, cellLoc='center', loc='upper left')\n",
        "plt.show()\n",
        "\n",
        "\n",
        "# Only change code above this line\n",
        "import math_code_test_b as test\n",
        "test.step22(In[-1].split('# Only change code above this line')[0])"
      ],
      "execution_count": null,
      "outputs": [
        {
          "output_type": "display_data",
          "data": {
            "text/plain": [
              "<Figure size 640x480 with 1 Axes>"
            ],
            "image/png": "[encoded data removed]"
          },
          "metadata": {}
        },
        {
          "output_type": "stream",
          "name": "stdout",
          "text": [
            " \n",
            "Code test passed\n",
            "Go on to the next step\n"
          ]
        }
      ]
    },
    {
      "cell_type": "markdown",
      "metadata": {
        "id": "jpo7oASHGEu7"
      },
      "source": [
        "# Step 23 - Projectile Game"
      ]
    },
    {
      "cell_type": "markdown",
      "metadata": {
        "id": "WHx9faGkGEu7"
      },
      "source": [
        "Learn quadratic functions by building a projectile game. Starting at (0,0) you launch a toy rocket that must clear a wall. You can randomize the height and location of the wall. The goal is to determine what initial velocity would get the rocket over the wall. Bonus: make an animation of the path of the rocket.\n"
      ]
    },
    {
      "cell_type": "code",
      "metadata": {
        "id": "-yFfSgoeWHN3",
        "colab": {
          "base_uri": "https://localhost:8080/",
          "height": 1000
        },
        "outputId": "38d57c63-9b6b-497e-959b-14acc82d0e82"
      },
      "source": [
        "import matplotlib.pyplot as plt\n",
        "import numpy as np\n",
        "import math\n",
        "import random\n",
        "\n",
        "# variable to define the permitted number of attempts\n",
        "attempts = 3\n",
        "# variable to count the number of guesses\n",
        "guesses = 0\n",
        "# variable to register the user's success\n",
        "successful = False\n",
        "\n",
        "# define coordinates for the target: the wall that has to be cleared\n",
        "loc = random.randint(0, 100)\n",
        "height = random.randint(0, 50)\n",
        "print(f\"Your toy rocket has to clear a wall at a distance of {loc} meters.\")\n",
        "\n",
        "fig, ax = plt.subplots()\n",
        "a = -4.9\n",
        "for i in range(0, attempts):\n",
        "    # ask for and validate the user's input regarding the missile's velocity and its starting height\n",
        "    running = True\n",
        "    while running:\n",
        "        try:\n",
        "            b = float(input(\"- define an initial velocity (in m/s): \"))\n",
        "            c = float(input(\"- define an initial height (in m): \"))\n",
        "            running = False\n",
        "        except:\n",
        "            print(\"# ERROR: At least one of your inputs was not valid. - Try it again ...\")\n",
        "\n",
        "    # calculate the coordinates of the vertex of the missile's trajectory\n",
        "    vx = -b/(2*a)\n",
        "    vy = a*vx**2 + b*vx + c\n",
        "    print(f\"--> trajectory's vertex: ({vx:g}, {vy:g})\")\n",
        "    print(\" \")\n",
        "\n",
        "    # define dimensions to display the missile's trajectory and the wall\n",
        "    xmin = -1\n",
        "    if vx < (0.5*loc):\n",
        "        xmax = loc+10\n",
        "    else:\n",
        "        xmax = int(vx)+10\n",
        "    ymin = -1\n",
        "    ymax = int(vy)+10\n",
        "\n",
        "    # plot the coordinate system with the missile's trajectory and the wall\n",
        "    points = 8*(xmax-xmin)\n",
        "    x = np.linspace(xmin,xmax,points)\n",
        "    y = a*x**2 + b*x + c\n",
        "    plt.axis([xmin,xmax,ymin,ymax])          # window dimensions\n",
        "    plt.plot([xmin,xmax],[0,0],'grey')       # x axis\n",
        "    plt.plot([0,0],[ymin,ymax], 'grey')      # y axis\n",
        "    plt.plot(x,y, label=\"missile\")           # missile's trajectory\n",
        "    plt.plot([vx],[vy],'ro')                 # trajectory's vertex point\n",
        "    wall = plt.plot([loc, loc], [0, height], \"brown\", label=\"wall\")   # wall (target)\n",
        "    plt.setp(wall, linewidth=4)\n",
        "    # tx = loc + 1\n",
        "    # ty = height\n",
        "    # ax.text(tx, ty, \"wall\", style=\"italic\")\n",
        "    plt.ylabel(\"height\")\n",
        "    plt.xlabel(\"width\")\n",
        "    plt.legend(loc=\"upper right\")\n",
        "    plt.show(block=False)\n",
        "    plt.pause(0.01)\n",
        "\n",
        "    # evaluate the trajectory based on the user's input\n",
        "    guesses += 1\n",
        "    user_trajectory = round((-b - math.sqrt(b**2 - 4*a*c)) /(2*a), 2)\n",
        "    if user_trajectory >= loc:\n",
        "        print(f\"--> Distance: {user_trajectory}m --> SUCCESS!\")\n",
        "        successful = True\n",
        "        break\n",
        "    else:\n",
        "        distance = loc - user_trajectory\n",
        "        if guesses < attempts:\n",
        "            print(f\"--> SORRY, you've missed the target (by {distance:g}m) ... please try it again!\")\n",
        "        else:\n",
        "            print(f\"--> SORRY, you've missed the target again! (by {distance:g}m this time)\")\n",
        "        print()\n",
        "\n",
        "# provide a final feedback\n",
        "print()\n",
        "print(\"*** E V A L U A T I O N ***\")\n",
        "print(\"===========================\")\n",
        "if successful:\n",
        "    print(f\"CONGRATULATIONS! - You have cleared the wall in {guesses} attempt/s!\")\n",
        "else:\n",
        "    print(f\"GAME OVER! - Unfortunately, you have not cleared the wall in {attempts} attempts!\")\n",
        "\n",
        "\n",
        "# This step does not have a test"
      ],
      "execution_count": null,
      "outputs": [
        {
          "output_type": "stream",
          "name": "stdout",
          "text": [
            "Your toy rocket has to clear a wall at a distance of 40 meters.\n",
            "- define an initial velocity (in m/s): 35\n",
            "- define an initial height (in m): 1.8\n",
            "--> trajectory's vertex: (3.57143, 64.3)\n",
            " \n"
          ]
        },
        {
          "output_type": "display_data",
          "data": {
            "text/plain": [
              "<Figure size 640x480 with 1 Axes>"
            ],
            "image/png": "[encoded data removed]"
          },
          "metadata": {}
        },
        {
          "output_type": "stream",
          "name": "stdout",
          "text": [
            "--> SORRY, you've missed the target (by 32.81m) ... please try it again!\n",
            "\n",
            "- define an initial velocity (in m/s): 225\n",
            "- define an initial height (in m): 1.8\n",
            "--> trajectory's vertex: (22.9592, 2584.71)\n",
            " \n"
          ]
        },
        {
          "output_type": "display_data",
          "data": {
            "text/plain": [
              "<Figure size 640x480 with 1 Axes>"
            ],
            "image/png": "[encoded data removed]"
          },
          "metadata": {}
        },
        {
          "output_type": "stream",
          "name": "stdout",
          "text": [
            "--> Distance: 45.93m --> SUCCESS!\n",
            "\n",
            "*** E V A L U A T I O N ***\n",
            "===========================\n",
            "CONGRATULATIONS! - You have cleared the wall in 2 attempt/s!\n"
          ]
        }
      ]
    },
    {
      "cell_type": "markdown",
      "source": [
        "# Step 24 - Define Graphing Functions"
      ],
      "metadata": {
        "id": "pE5o0-VMaIy3"
      }
    },
    {
      "cell_type": "markdown",
      "source": [
        "Building on what you have already done, create a menu with the following options:<br>\n",
        "<ul>\n",
        "<li>Display the graph and a table of values for any \"y=\" equation input</li>\n",
        "<li>Solve a system of two equations without graphing</li>\n",
        "<li>Graph two equations and plot the point of intersection</li>\n",
        "<li>Given a, b and c in a quadratic equation, plot the roots and vertex</li>\n",
        "</ul>\n",
        "Then think about how you will define a function for each item."
      ],
      "metadata": {
        "id": "c5tXoITnag_P"
      }
    },
    {
      "cell_type": "code",
      "source": [
        "# Write your code here\n",
        "# MENU\n",
        "print(\"*** SOLVING & GRAPHING FUNCTIONS ***\")\n",
        "print(\"====================================\")\n",
        "print(\"You can select between one of the following options:\")\n",
        "print(\"--> 1 = display the graph and a table of values for any 'y=' equation input\")\n",
        "print(\"--> 2 = solve a system of two equations, without graphing\")\n",
        "print(\"--> 3 = graph two equations and plot the point of intersection\")\n",
        "print(\"--> 4 = given a, b and c in a quadratic equation, plot the roots and vertex\")\n",
        "print()\n",
        "\n",
        "user_choice = input(\"Please enter the number corresponding to the action of your choice: \")\n",
        "\n",
        "# This step does not have a test"
      ],
      "metadata": {
        "id": "lvuStaKYalPo",
        "colab": {
          "base_uri": "https://localhost:8080/"
        },
        "outputId": "fe1b4e95-3338-4133-c3f1-eee6ade1e496"
      },
      "execution_count": null,
      "outputs": [
        {
          "name": "stdout",
          "output_type": "stream",
          "text": [
            "*** SOLVING & GRAPHING FUNCTIONS ***\n",
            "====================================\n",
            "You can select between one of the following options:\n",
            "--> 1 = display the graph and a table of values for any 'y=' equation input\n",
            "--> 2 = solve a system of two equations, without graphing\n",
            "--> 3 = graph two equations and plot the point of intersection\n",
            "--> 4 = given a, b and c in a quadratic equation, plot the roots and vertex\n",
            "\n",
            "Please enter the number corresponding to the action of your choice: 3\n"
          ]
        }
      ]
    },
    {
      "cell_type": "markdown",
      "source": [
        "# Step 25 - Certification Project 2"
      ],
      "metadata": {
        "id": "D7ASvHg3b2Ph"
      }
    },
    {
      "cell_type": "markdown",
      "source": [
        "Build a graphing calculator that performs the functions mentioned in the previous step:\n",
        "<ul>\n",
        "<li>Display the graph and a table of values for any \"y=\" equation input</li>\n",
        "<li>Solve a system of two equations without graphing</li>\n",
        "<li>Graph two equations and plot the point of intersection</li>\n",
        "<li>Given a, b and c in a quadratic equation, plot the roots and vertex</li>\n",
        "</ul>\n",
        "Define each of the functions, and make each option call a function."
      ],
      "metadata": {
        "id": "KBcTUf08cRy1"
      }
    },
    {
      "cell_type": "code",
      "source": [
        "import matplotlib.pyplot as plt\n",
        "import numpy as np\n",
        "import math\n",
        "from sympy import *\n",
        "\n",
        "# CONSTANTS\n",
        "reminder_python_syntax = \"(--> Remember to use Python syntax with x and y variables!)\"\n",
        "integer_note = \"(For the sake of simplicity, the permitted entries of this exercise are limited to integers!)\"\n",
        "error_msg = \"# ERROR! At least one of your inputs must have been incorrect. - Try it again ...\"\n",
        "xmin = -10\n",
        "xmax = 10\n",
        "ymin = -10\n",
        "ymax = 10\n",
        "points = 4*(xmax-xmin)\n",
        "\n",
        "\n",
        "# FUNCTIONS ...\n",
        "\n",
        "def display_graph_and_values():\n",
        "    print(\"[ 1 ]\")\n",
        "    print(\"This function allows you to plot the graph for a simple linear equation (y = mx + b) and\\nto display a corresponding table of values.\")\n",
        "    print(\"--------------------------------\")\n",
        "    running = True\n",
        "    while running:\n",
        "        try:\n",
        "            print(reminder_python_syntax)\n",
        "            print(\"Based on the general form of a linear equation (y = mx + b), you have to enter a slope (m) and an intercept (b).\")\n",
        "            print(integer_note)\n",
        "            m = int(input(\" - your slope: m = \"))\n",
        "            b = int(input(\" - your intercept: b = \"))\n",
        "            x = np.linspace(xmin, xmax, points)\n",
        "            y = m*x + b\n",
        "            running = False\n",
        "        except:\n",
        "            print(error_msg)\n",
        "\n",
        "    if m != 0:\n",
        "        if m == 1:\n",
        "            c = \"\"\n",
        "        elif m == -1:\n",
        "            c = \"-\"\n",
        "        else:\n",
        "            c = m\n",
        "        if b > 0:\n",
        "            equation = f\"y = {c}x + {b}\"\n",
        "        elif b < 0:\n",
        "            equation = f\"y = {c}x - {abs(b)}\"\n",
        "        else:\n",
        "            equation = f\"y = {c}x\"\n",
        "    else:\n",
        "        equation = f\"y = {b}\"\n",
        "\n",
        "    # plot the graph\n",
        "    fig, ax = plt.subplots()\n",
        "    plt.axis([xmin, xmax, ymin, ymax])\n",
        "    plt.plot([xmin, xmax], [0, 0], \"lightgrey\")\n",
        "    plt.plot([0, 0], [ymin, ymax], \"lightgrey\")\n",
        "    plt.plot(x, y)\n",
        "    plt.title(f\"graph for {equation}\")\n",
        "    plt.show()\n",
        "\n",
        "    # plot a table of values\n",
        "    ax_2 = plt.subplot()\n",
        "    ax_2.set_axis_off()\n",
        "    title = f\"table of values for {equation}\"\n",
        "    cols = ('x', 'y')\n",
        "    rows = []\n",
        "    for n in range(-10, 11, 2):\n",
        "        rows.append([n, m*n + b])\n",
        "    ax_2.set_title(title)\n",
        "    val_table = plt.table(cellText=rows, colLabels=cols, cellLoc='center', loc='upper left')\n",
        "    for cell in val_table._cells:\n",
        "        text = val_table._cells[cell].get_text()\n",
        "        text.set_fontstyle('italic')\n",
        "\n",
        "    plt.show()\n",
        "\n",
        "\n",
        "def solve_two_equations():\n",
        "    print(\"[ 2 ]\")\n",
        "    print(\"This function allows you to solve a system of two linear equations with two variables each.\")\n",
        "    x, y = symbols (\"x y\")\n",
        "    running = True\n",
        "    while running:\n",
        "        try:\n",
        "            print(reminder_python_syntax)\n",
        "            equation_1 = input(\" - enter your first equation:  0 = \")\n",
        "            equation_2 = input(\" - enter your second equation: 0 = \")\n",
        "            a = Eq(parse_expr(equation_1), 0)\n",
        "            b = Eq(parse_expr(equation_2), 0)\n",
        "            a = simplify(a)\n",
        "            b = simplify(b)\n",
        "            if (a.lhs-a.rhs) == (b.lhs-b.rhs):\n",
        "                print(\"--> Your system of equations is underdetermined, it has an infinite number of solutions.\")\n",
        "                print(\"(One of the variables (x, y) is free, that is you can assign an arbitrary value to it.)\")\n",
        "            else:\n",
        "                solution = linsolve([equation_1, equation_2], (x, y))\n",
        "                if solution:\n",
        "                    x_solution = round(float(solution.args[0][0]),3)\n",
        "                    y_solution = round(float(solution.args[0][1]),3)\n",
        "                    print(f\"--> Your system of equations has a unique solution: x = {x_solution}, y = {y_solution}.\")\n",
        "                else:\n",
        "                    print(\"--> Your system of equations is inconsistent, i.e. it has no solution.\")\n",
        "            running = False\n",
        "        except:\n",
        "            print(error_msg)\n",
        "\n",
        "\n",
        "def graph_equations_and_intersection():\n",
        "    print(\"[ 3 ]\")\n",
        "    print(\"This function allows you to plot the graphs of two (linear or quadratic) equations of your choice and, provided that\\nthese graphs intersect, to mark their point(s) of intersection.\")\n",
        "    print(\"--------------------------------\")\n",
        "    print(reminder_python_syntax)\n",
        "    running = True\n",
        "    x, y = symbols(\"x y\")\n",
        "\n",
        "    while running:\n",
        "        try:\n",
        "            choice_1 = int(input(\" - regarding your first equation, enter '1' for a linear or '2' for a quadratic equation: \"))\n",
        "            choice_2 = int(input(\" - regarding your second equation, enter '1' for a linear or '2' for a quadratic equation: \"))\n",
        "            if choice_1 in [1, 2] and choice_2 in [1, 2]:\n",
        "                print(\"\\nFIRST FUNCTION:\")\n",
        "                params_fct_1 = define_function(choice_1)\n",
        "                if params_fct_1[\"type\"] == \"linear\":\n",
        "                    slope = params_fct_1[\"slope\"]\n",
        "                    intercept = params_fct_1[\"intercept\"]\n",
        "                    str_fct_1 = f\"{slope}*x + {intercept}\"\n",
        "                elif params_fct_1[\"type\"] == \"quadratic\":\n",
        "                    coeff_quadr = params_fct_1[\"coeff_quadr\"]\n",
        "                    coeff_lin = params_fct_1[\"coeff_lin\"]\n",
        "                    coeff_const = params_fct_1[\"coeff_const\"]\n",
        "                    str_fct_1 = f\"{coeff_quadr}*x**2 + {coeff_lin}*x + {coeff_const}\"\n",
        "                fct_1 = str_fct_1.replace(\"**2\", \"\\u00b2\").replace(\"*\", \"\").replace(\"1x\", \"x\").replace(\"0x\\u00b2 +\", \"\").replace(\"+ 0x\", \"\").replace(\"+ 0\", \"\").replace(\"+ -\", \"- \")\n",
        "                fct_1y = parse_expr(str_fct_1 + \"- y\")\n",
        "\n",
        "                print(\"\\nSECOND FUNCTION:\")\n",
        "                params_fct_2 = define_function(choice_2)\n",
        "                if params_fct_2[\"type\"] == \"linear\":\n",
        "                    slope = params_fct_2[\"slope\"]\n",
        "                    intercept = params_fct_2[\"intercept\"]\n",
        "                    str_fct_2 = f\"{slope}*x + {intercept}\"\n",
        "                elif params_fct_2[\"type\"] == \"quadratic\":\n",
        "                    coeff_quadr = params_fct_2[\"coeff_quadr\"]\n",
        "                    coeff_lin = params_fct_2[\"coeff_lin\"]\n",
        "                    coeff_const = params_fct_2[\"coeff_const\"]\n",
        "                    str_fct_2 = f\"{coeff_quadr}*x**2 + {coeff_lin}*x + {coeff_const}\"\n",
        "                fct_2 = str_fct_2.replace(\"**2\", \"\\u00b2\").replace(\"*\", \"\").replace(\"1x\", \"x\").replace(\"0x\\u00b2 +\", \"\").replace(\"+ 0x\", \"\").replace(\"+ 0\", \"\").replace(\"+ -\", \"- \")\n",
        "                fct_2y = parse_expr(str_fct_2 + \"- y\")\n",
        "\n",
        "                running = False\n",
        "\n",
        "                # calculate the functions' intersection points\n",
        "                solutions = solve([fct_1y, fct_2y], (x, y), dict=True)\n",
        "                # ??? how to get rid of complex \"solutions\"?\n",
        "                # cf. https://stackoverflow.com/questions/15210704/ignore-imaginary-roots-in-sympy?rq=3\n",
        "                # cf. https://stackoverflow.com/questions/63585690/cant-constrain-sympy-variables-to-real-numbers?noredirect=1&lq=1\n",
        "                # --> an \"open issue\" of SymPy?\n",
        "                # real=True doesn't work; complex=False doesn't work; real_roots()?\n",
        "                print()\n",
        "                print(\"The following intersections have been calculated:\")\n",
        "                try:\n",
        "                    for s in solutions:\n",
        "                        print(s)\n",
        "                except Exception as e:\n",
        "                    print(e)\n",
        "\n",
        "                # plot the functions and, if they exist, their intersection points\n",
        "                fig, ax = plt.subplots()\n",
        "                plt.axis([xmin, xmax, ymin, ymax])\n",
        "                plt.plot([xmin, xmax], [0, 0], \"lightgrey\")\n",
        "                plt.plot([0, 0], [ymin, ymax], \"lightgrey\")\n",
        "                graph_x = np.linspace(xmin, xmax, points)\n",
        "                if params_fct_1[\"type\"] == \"linear\":\n",
        "                    y_1 = params_fct_1[\"slope\"] * graph_x + params_fct_1[\"intercept\"]\n",
        "                elif params_fct_1[\"type\"] == \"quadratic\":\n",
        "                    y_1 = params_fct_1[\"coeff_quadr\"] * graph_x**2 + params_fct_1[\"coeff_lin\"] * graph_x + params_fct_1[\"coeff_const\"]\n",
        "                plt.plot(graph_x, y_1)\n",
        "                if params_fct_2[\"type\"] == \"linear\":\n",
        "                    y_2 = params_fct_2[\"slope\"] * graph_x + params_fct_2[\"intercept\"]\n",
        "                elif params_fct_2[\"type\"] == \"quadratic\":\n",
        "                    y_2 = params_fct_2[\"coeff_quadr\"] * graph_x**2 + params_fct_2[\"coeff_lin\"] * graph_x + params_fct_2[\"coeff_const\"]\n",
        "                plt.plot(graph_x, y_2)\n",
        "                plt.title(f\"graphs for y = {fct_1} and y = {fct_2}\")\n",
        "\n",
        "                if len(solutions) > 0:\n",
        "                    x_vals = list()\n",
        "                    y_vals = list()\n",
        "                    for s in solutions:\n",
        "                        x_vals.append(s[x])\n",
        "                        y_vals.append(s[y])\n",
        "                    plt.plot(x_vals, y_vals, \"gs\")\n",
        "\n",
        "                plt.show(block=False)\n",
        "                plt.pause(0.01)\n",
        "\n",
        "            else:\n",
        "                print(error_msg)\n",
        "        except Exception as e:\n",
        "            print(e)\n",
        "            print(error_msg)\n",
        "\n",
        "def define_function(option_nr):\n",
        "    params = {\n",
        "        \"type\": None,\n",
        "        \"coeff_quadr\": None,\n",
        "        \"coeff_lin\": None,\n",
        "        \"coeff_const\": None,\n",
        "        \"slope\": None,\n",
        "        \"intercept\": None\n",
        "    }\n",
        "    # define a linear function\n",
        "    if option_nr == 1:\n",
        "        running = True\n",
        "        print(\"Based on the general form of a linear equation (y = mx + b), you have to enter a slope (m) and an intercept (b).\")\n",
        "        print(integer_note)\n",
        "        while running:\n",
        "            try:\n",
        "                m = int(input(\" - your slope: m = \"))\n",
        "                b = int(input(\" - your intercept: b = \"))\n",
        "                params[\"type\"] = \"linear\"\n",
        "                params[\"slope\"] = m\n",
        "                params[\"intercept\"] = b\n",
        "                return params\n",
        "            except:\n",
        "                print(error_msg)\n",
        "    # define a quadratic function\n",
        "    if option_nr == 2:\n",
        "        running = True\n",
        "        print(\"Based on the general form of a quadratic function, that is: f(x) = ax\\u00b2 + bx + c,\\nyou have to enter (integer) values for the coefficients a, b, c.\")\n",
        "        print(integer_note)\n",
        "        while running:\n",
        "            try:\n",
        "                a = int(input(\" - your quadratic coefficient:  a = \"))\n",
        "                b = int(input(\" - your linear coefficient:     b = \"))\n",
        "                c = int(input(\" - your constant coefficient:   c = \"))\n",
        "                params[\"type\"] = \"quadratic\"\n",
        "                params[\"coeff_quadr\"] = a\n",
        "                params[\"coeff_lin\"] = b\n",
        "                params[\"coeff_const\"] = c\n",
        "                return params\n",
        "            except:\n",
        "                print(error_msg)\n",
        "\n",
        "\n",
        "def plot_quadratic_function():\n",
        "    print(\"[ 4 ]\")\n",
        "    print(\"This function allows you to plot the roots and the vertex of a simple quadratic function, based on your input\\nof values for the three relevant coefficients (quadratic / linear / constant).\")\n",
        "    print(integer_note)\n",
        "    print(\"--------------------------------\")\n",
        "    running = True\n",
        "    while running:\n",
        "        try:\n",
        "            print(\"Based on the general form of a quadratic function, that is: f(x) = ax\\u00b2 + bx + c,\\nyou have to enter (integer) values for the coefficients a, b, c.\")\n",
        "            a = int(input(\" - your quadratic coefficient:  a = \"))\n",
        "            b = int(input(\" - your linear coefficient:     b = \"))\n",
        "            c = int(input(\" - your constant coefficient:   c = \"))\n",
        "\n",
        "            # calculate the roots\n",
        "            x_1, x_2 = None, None\n",
        "            print(\"RESULT:\")\n",
        "            if (b**2 - 4*a*c) < 0:\n",
        "                print(\"--> Your function has no real roots.\")\n",
        "            else:\n",
        "                if a == 0:\n",
        "                    if b == 0:\n",
        "                        if c == 0:\n",
        "                            print(\"--> Yours is a constant function with c = 0, so it has an infinite number of roots.\")\n",
        "                        else:\n",
        "                            print(\"--> Yours is a constant function with c != 0, so it has no roots.\")\n",
        "                    else:\n",
        "                        x_1 = -c/b\n",
        "                        print(f\"--> Your function has the root {x_1:g}.\")\n",
        "                else:\n",
        "                    if (b**2 - 4*a*c) == 0:\n",
        "                        x_1 = -b/(2*a)\n",
        "                        print(f\"--> Your function has the root {x_1:g}.\")\n",
        "                    elif (b**2 - 4*a*c) > 0:\n",
        "                        x_1 = (-b + math.sqrt(b**2 - 4*a*c))/(2*a)\n",
        "                        x_2 = (-b - math.sqrt(b**2 - 4*a*c))/(2*a)\n",
        "                        print(f\"--> Your function has the roots {x_1:g} and {x_2:g}.\")\n",
        "\n",
        "            # calculate the vertex (using the \"vertex formula\")\n",
        "            vx, vy = None, None\n",
        "            if a != 0:\n",
        "                vx = -b/(2*a)\n",
        "                vy = a*vx**2 + b*vx + c\n",
        "                print(f\"--> The vertex of its graph is to be found at ({vx:g}, {vy:g}).\")\n",
        "            else:\n",
        "                print(\"--> Since your function does not contain a quadratic term, its graph is not a parabola - so there is no vertex.\")\n",
        "\n",
        "            running = False\n",
        "\n",
        "            if a == 0:\n",
        "                if b == 0:\n",
        "                    equation = c\n",
        "                else:\n",
        "                    if b == 1:\n",
        "                        v = \"\"\n",
        "                    elif b == -1:\n",
        "                        v = \"-\"\n",
        "                    else:\n",
        "                        v = b\n",
        "                    if c == 0:\n",
        "                        equation = f\"{v}x\"\n",
        "                    elif c > 0:\n",
        "                        equation = f\"{v}x + {c}\"\n",
        "                    else:\n",
        "                        equation = f\"{v}x - {abs(c)}\"\n",
        "            elif a == 1:\n",
        "                if b == 0:\n",
        "                    if c == 0:\n",
        "                        equation = \"x\\u00b2\"\n",
        "                    elif c > 0:\n",
        "                        equation = f\"x\\u00b2 + {c}\"\n",
        "                    else:\n",
        "                        equation = f\"x\\u00b2 - {abs(c)}\"\n",
        "                else:\n",
        "                    if b == 1:\n",
        "                        if c == 0:\n",
        "                            equation = f\"x\\u00b2 + x\"\n",
        "                        elif c > 0:\n",
        "                            equation = f\"x\\u00b2 + x + {c}\"\n",
        "                        else:\n",
        "                            equation = f\"x\\u00b2 + x - {abs(c)}\"\n",
        "                    elif b == -1:\n",
        "                        if c == 0:\n",
        "                            equation = f\"x\\u00b2 - x\"\n",
        "                        elif c > 0:\n",
        "                            equation = f\"x\\u00b2 - x + {c}\"\n",
        "                        else:\n",
        "                            equation = f\"x\\u00b2 - x - {abs(c)}\"\n",
        "                    elif b > 1:\n",
        "                        if c == 0:\n",
        "                            equation = f\"x\\u00b2 + {b}x\"\n",
        "                        elif c > 0:\n",
        "                            equation = f\"x\\u00b2 + {b}x + {c}\"\n",
        "                        else:\n",
        "                            equation = f\"x\\u00b2 + {b}x - {abs(c)}\"\n",
        "                    elif b < -1:\n",
        "                        if c == 0:\n",
        "                            equation = f\"x\\u00b2 - {abs(b)}x\"\n",
        "                        elif c > 0:\n",
        "                            equation = f\"x\\u00b2 - {abs(b)}x + {c}\"\n",
        "                        else:\n",
        "                            equation = f\"x\\u00b2 - {abs(b)}x - {abs(c)}\"\n",
        "            elif a == -1:\n",
        "                if b == 0:\n",
        "                    if c == 0:\n",
        "                        equation = \"-x\\u00b2\"\n",
        "                    elif c > 0:\n",
        "                        equation = f\"-x\\u00b2 + {c}\"\n",
        "                    else:\n",
        "                        equation = f\"-x\\u00b2 - {abs(c)}\"\n",
        "                else:\n",
        "                    if b == 1:\n",
        "                        if c == 0:\n",
        "                            equation = \"-x\\u00b2 + x\"\n",
        "                        elif c > 0:\n",
        "                            equation = f\"-x\\u00b2 + x + {c}\"\n",
        "                        else:\n",
        "                            equation = f\"-x\\u00b2 + x - {abs(c)}\"\n",
        "                    elif b == -1:\n",
        "                        if c == 0:\n",
        "                            equation = \"-x\\u00b2 - x\"\n",
        "                        elif c > 0:\n",
        "                            equation = f\"-x\\u00b2 - x + {c}\"\n",
        "                        else:\n",
        "                            equation = f\"-x\\u00b2 - x - {abs(c)}\"\n",
        "                    elif b > 1:\n",
        "                        if c == 0:\n",
        "                            equation = f\"-x\\u00b2 + {b}x\"\n",
        "                        elif c > 0:\n",
        "                            equation = f\"-x\\u00b2 + {b}x + {c}\"\n",
        "                        else:\n",
        "                            equation = f\"-x\\u00b2 + {b}x - {abs(c)}\"\n",
        "                    elif b < -1:\n",
        "                        if c == 0:\n",
        "                            equation = f\"-x\\u00b2 - {abs(b)}x\"\n",
        "                        elif c > 0:\n",
        "                            equation = f\"-x\\u00b2 - {abs(b)}x + {c}\"\n",
        "                        else:\n",
        "                            equation = f\"-x\\u00b2 - {abs(b)}x - {abs(c)}\"\n",
        "            elif a > 1 or a < -1:\n",
        "                if b == 0:\n",
        "                    if c == 0:\n",
        "                        equation = f\"{a}x\\u00b2\"\n",
        "                    elif c > 0:\n",
        "                        equation = f\"{a}x\\u00b2 + {c}\"\n",
        "                    else:\n",
        "                        equation = f\"{a}x\\u00b2 - {abs(c)}\"\n",
        "                else:\n",
        "                    if b == 1:\n",
        "                        if c == 0:\n",
        "                            equation = f\"{a}x\\u00b2 + x\"\n",
        "                        elif c > 0:\n",
        "                            equation = f\"{a}x\\u00b2 + x + {c}\"\n",
        "                        else:\n",
        "                            equation = f\"{a}x\\u00b2 + x - {abs(c)}\"\n",
        "                    elif b == -1:\n",
        "                        if c == 0:\n",
        "                            equation = f\"{a}x\\u00b2 - x\"\n",
        "                        elif c > 0:\n",
        "                            equation = f\"{a}x\\u00b2 - x + {c}\"\n",
        "                        else:\n",
        "                            equation = f\"{a}x\\u00b2 - x - {abs(c)}\"\n",
        "                    elif b > 1:\n",
        "                        if c == 0:\n",
        "                            equation = f\"{a}x\\u00b2 + {b}x\"\n",
        "                        elif c > 0:\n",
        "                            equation = f\"{a}x\\u00b2 + {b}x + {c}\"\n",
        "                        else:\n",
        "                            equation = f\"{a}x\\u00b2 + {b}x - {abs(c)}\"\n",
        "                    elif b < -1:\n",
        "                        if c == 0:\n",
        "                            equation = f\"{a}x\\u00b2 - {abs(b)}x\"\n",
        "                        elif c > 0:\n",
        "                            equation = f\"{a}x\\u00b2 - {abs(b)}x + {c}\"\n",
        "                        else:\n",
        "                            equation = f\"{a}x\\u00b2 - {abs(b)}x - {abs(c)}\"\n",
        "\n",
        "            # plot the graph, the roots and the vertex\n",
        "            fig, ax = plt.subplots()\n",
        "            plt.axis([xmin, xmax, ymin, ymax])\n",
        "            plt.plot([xmin, xmax], [0, 0], \"lightgrey\")\n",
        "            plt.plot([0, 0], [ymin, ymax], \"lightgrey\")\n",
        "            x = np.linspace(xmin, xmax, points)\n",
        "            y = a*x**2 + b*x + c\n",
        "            plt.plot(x, y)\n",
        "            plt.title(f\"graph for {equation}\")\n",
        "            plt.plot([vx], [vy], \"ro\")\n",
        "            if x_1 is not None:\n",
        "                plt.plot([x_1], [0], \"gs\")\n",
        "            if x_2 is not None:\n",
        "                plt.plot([x_2], [0], \"gs\")\n",
        "            plt.show()\n",
        "\n",
        "        except Exception as e:\n",
        "            print(e)\n",
        "            print(error_msg)\n",
        "\n",
        "\n",
        "\n",
        "# USER MENU\n",
        "print(\"*** SOLVING & GRAPHING FUNCTIONS ***\")\n",
        "print(\"====================================\")\n",
        "print()\n",
        "print(\"You can select between one of the following options:\")\n",
        "print(\"--> 1 = display the graph and a table of values for any 'y=' equation input\")\n",
        "print(\"--> 2 = solve a system of two equations, without graphing\")\n",
        "print(\"--> 3 = graph two equations and plot the point of intersection\")\n",
        "print(\"--> 4 = given a, b and c in a quadratic equation, plot the roots and vertex\")\n",
        "print()\n",
        "print(\"--> 0 = quit the program\")\n",
        "# print()\n",
        "\n",
        "# PROCESSING THE USER'S CHOICE\n",
        "programm_running = True\n",
        "while programm_running:\n",
        "    print()\n",
        "    user_choice = input(\"Please enter the number corresponding to the action of your choice: \")\n",
        "    match user_choice:\n",
        "        case \"0\":\n",
        "            print()\n",
        "            print(\"*****************\")\n",
        "            print(\" G O O D B Y E !\")\n",
        "            programm_running = False\n",
        "        case \"1\":\n",
        "            display_graph_and_values()\n",
        "        case \"2\":\n",
        "            solve_two_equations()\n",
        "        case \"3\":\n",
        "            graph_equations_and_intersection()\n",
        "        case \"4\":\n",
        "            plot_quadratic_function()\n",
        "        case _:\n",
        "            print(\"# No valid input! - Try it again ...\")\n",
        "\n",
        "\n",
        "# This step does not have a test"
      ],
      "metadata": {
        "id": "bmuz1zCecVCX",
        "colab": {
          "base_uri": "https://localhost:8080/",
          "height": 1000
        },
        "outputId": "63cd2172-be1f-4383-dbb8-4f0b0b5194ee"
      },
      "execution_count": null,
      "outputs": [
        {
          "output_type": "stream",
          "name": "stdout",
          "text": [
            "*** SOLVING & GRAPHING FUNCTIONS ***\n",
            "====================================\n",
            "\n",
            "You can select between one of the following options:\n",
            "--> 1 = display the graph and a table of values for any 'y=' equation input\n",
            "--> 2 = solve a system of two equations, without graphing\n",
            "--> 3 = graph two equations and plot the point of intersection\n",
            "--> 4 = given a, b and c in a quadratic equation, plot the roots and vertex\n",
            "\n",
            "--> 0 = quit the program\n",
            "\n",
            "Please enter the number corresponding to the action of your choice: 3\n",
            "[ 3 ]\n",
            "This function allows you to plot the graphs of two (linear or quadratic) equations of your choice and, provided that\n",
            "these graphs intersect, to mark their point(s) of intersection.\n",
            "--------------------------------\n",
            "(--> Remember to use Python syntax with x and y variables!)\n",
            " - regarding your first equation, enter '1' for a linear or '2' for a quadratic equation: 2\n",
            " - regarding your second equation, enter '1' for a linear or '2' for a quadratic equation: 1\n",
            "\n",
            "FIRST FUNCTION:\n",
            "Based on the general form of a quadratic function, that is: f(x) = ax² + bx + c,\n",
            "you have to enter (integer) values for the coefficients a, b, c.\n",
            "(For the sake of simplicity, the permitted entries of this exercise are limited to integers!)\n",
            " - your quadratic coefficient:  a = 2\n",
            " - your linear coefficient:     b = -2\n",
            " - your constant coefficient:   c = -2\n",
            "\n",
            "SECOND FUNCTION:\n",
            "Based on the general form of a linear equation (y = mx + b), you have to enter a slope (m) and an intercept (b).\n",
            "(For the sake of simplicity, the permitted entries of this exercise are limited to integers!)\n",
            " - your slope: m = -1\n",
            " - your intercept: b = 1\n",
            "\n",
            "The following intersections have been calculated:\n",
            "{x: -1, y: 2}\n",
            "{x: 3/2, y: -1/2}\n"
          ]
        },
        {
          "output_type": "display_data",
          "data": {
            "text/plain": [
              "<Figure size 640x480 with 1 Axes>"
            ],
            "image/png": "[encoded data removed]"
          },
          "metadata": {}
        },
        {
          "output_type": "stream",
          "name": "stdout",
          "text": [
            "\n",
            "Please enter the number corresponding to the action of your choice: 0\n",
            "\n",
            "*****************\n",
            " G O O D B Y E !\n"
          ]
        }
      ]
    },
    {
      "cell_type": "code",
      "source": [],
      "metadata": {
        "id": "gyeD4Ssvu3hG"
      },
      "execution_count": null,
      "outputs": []
    }
  ]
}